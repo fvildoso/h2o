{
 "cells": [
  {
   "cell_type": "markdown",
   "source": [
    "# H2o Playground\n",
    "\n",
    "Explorar funcionalidades del _framework_ H2o."
   ],
   "metadata": {
    "collapsed": false,
    "pycharm": {
     "name": "#%% md\n"
    }
   }
  },
  {
   "cell_type": "code",
   "execution_count": 1,
   "outputs": [],
   "source": [
    "# Cargar librerias\n",
    "import h2o\n",
    "from h2o.automl import H2OAutoML\n",
    "import os\n",
    "import matplotlib.pyplot as plt\n",
    "import pandas as pd\n",
    "from dotenv import load_dotenv"
   ],
   "metadata": {
    "collapsed": false,
    "pycharm": {
     "name": "#%%\n"
    }
   }
  },
  {
   "cell_type": "markdown",
   "source": [
    "Cargamos credenciales desde el archivo `.env`."
   ],
   "metadata": {
    "collapsed": false,
    "pycharm": {
     "name": "#%% md\n"
    }
   }
  },
  {
   "cell_type": "code",
   "execution_count": 2,
   "outputs": [],
   "source": [
    "%%capture\n",
    "load_dotenv()\n",
    "schema = \"h2o\"\n",
    "conn_url = os.getenv('MARIADB_URL') + schema\n",
    "username = os.getenv('MARIADB_USER')\n",
    "password = os.getenv('MARIADB_PASS')\n",
    "table = 'cars_20mpg'"
   ],
   "metadata": {
    "collapsed": false,
    "pycharm": {
     "name": "#%%\n"
    }
   }
  },
  {
   "cell_type": "markdown",
   "source": [
    "Establecer conexión:"
   ],
   "metadata": {
    "collapsed": false,
    "pycharm": {
     "name": "#%% md\n"
    }
   }
  },
  {
   "cell_type": "code",
   "execution_count": 3,
   "outputs": [],
   "source": [
    "%%capture\n",
    "h2o.init(extra_classpath=[\"drivers/mariadb-java-client-3.0.5.jar\"])"
   ],
   "metadata": {
    "collapsed": false,
    "pycharm": {
     "name": "#%%\n"
    }
   }
  },
  {
   "cell_type": "markdown",
   "source": [
    "Traerse una tabla desde la base de datos:"
   ],
   "metadata": {
    "collapsed": false,
    "pycharm": {
     "name": "#%% md\n"
    }
   }
  },
  {
   "cell_type": "code",
   "execution_count": 4,
   "outputs": [
    {
     "name": "stdout",
     "output_type": "stream",
     "text": [
      "Import SQL Table progress: |█████████████████████████████████████████████████████| (done) 100%\n"
     ]
    }
   ],
   "source": [
    "mpg = h2o.import_sql_table(conn_url, table, username, password)"
   ],
   "metadata": {
    "collapsed": false,
    "pycharm": {
     "name": "#%%\n"
    }
   }
  },
  {
   "cell_type": "markdown",
   "source": [
    "La tabla se guarda en un objeto `h2o.frame.H2OFrame`."
   ],
   "metadata": {
    "collapsed": false,
    "pycharm": {
     "name": "#%% md\n"
    }
   }
  },
  {
   "cell_type": "code",
   "execution_count": 5,
   "outputs": [
    {
     "data": {
      "text/plain": "h2o.frame.H2OFrame"
     },
     "execution_count": 5,
     "metadata": {},
     "output_type": "execute_result"
    }
   ],
   "source": [
    "type(mpg)"
   ],
   "metadata": {
    "collapsed": false,
    "pycharm": {
     "name": "#%%\n"
    }
   }
  },
  {
   "cell_type": "code",
   "execution_count": 6,
   "outputs": [
    {
     "data": {
      "text/html": "<table>\n<thead>\n<tr><th>name                   </th><th style=\"text-align: right;\">  economy</th><th style=\"text-align: right;\">  cylinders</th><th style=\"text-align: right;\">  displacement</th><th style=\"text-align: right;\">  power</th><th style=\"text-align: right;\">  weight</th><th style=\"text-align: right;\">  acceleration</th><th style=\"text-align: right;\">  year</th><th style=\"text-align: right;\">  economy_20mpg</th></tr>\n</thead>\n<tbody>\n<tr><td>AMC Ambassador Brougham</td><td style=\"text-align: right;\">     13  </td><td style=\"text-align: right;\">          8</td><td style=\"text-align: right;\">           360</td><td style=\"text-align: right;\">    175</td><td style=\"text-align: right;\">    3821</td><td style=\"text-align: right;\">          11  </td><td style=\"text-align: right;\">    73</td><td style=\"text-align: right;\">              0</td></tr>\n<tr><td>AMC Ambassador DPL     </td><td style=\"text-align: right;\">     15  </td><td style=\"text-align: right;\">          8</td><td style=\"text-align: right;\">           390</td><td style=\"text-align: right;\">    190</td><td style=\"text-align: right;\">    3850</td><td style=\"text-align: right;\">           8.5</td><td style=\"text-align: right;\">    70</td><td style=\"text-align: right;\">              0</td></tr>\n<tr><td>AMC Ambassador SST     </td><td style=\"text-align: right;\">     17  </td><td style=\"text-align: right;\">          8</td><td style=\"text-align: right;\">           304</td><td style=\"text-align: right;\">    150</td><td style=\"text-align: right;\">    3672</td><td style=\"text-align: right;\">          11.5</td><td style=\"text-align: right;\">    72</td><td style=\"text-align: right;\">              0</td></tr>\n<tr><td>AMC Concord DL 6       </td><td style=\"text-align: right;\">     20.2</td><td style=\"text-align: right;\">          6</td><td style=\"text-align: right;\">           232</td><td style=\"text-align: right;\">     90</td><td style=\"text-align: right;\">    3265</td><td style=\"text-align: right;\">          18.2</td><td style=\"text-align: right;\">    79</td><td style=\"text-align: right;\">              1</td></tr>\n<tr><td>AMC Concord DL         </td><td style=\"text-align: right;\">     18.1</td><td style=\"text-align: right;\">          6</td><td style=\"text-align: right;\">           258</td><td style=\"text-align: right;\">    120</td><td style=\"text-align: right;\">    3410</td><td style=\"text-align: right;\">          15.1</td><td style=\"text-align: right;\">    78</td><td style=\"text-align: right;\">              0</td></tr>\n<tr><td>AMC Concord DL         </td><td style=\"text-align: right;\">     23  </td><td style=\"text-align: right;\">          4</td><td style=\"text-align: right;\">           151</td><td style=\"text-align: right;\">    nan</td><td style=\"text-align: right;\">    3035</td><td style=\"text-align: right;\">          20.5</td><td style=\"text-align: right;\">    82</td><td style=\"text-align: right;\">              1</td></tr>\n<tr><td>AMC Concord            </td><td style=\"text-align: right;\">     19.4</td><td style=\"text-align: right;\">          6</td><td style=\"text-align: right;\">           232</td><td style=\"text-align: right;\">     90</td><td style=\"text-align: right;\">    3210</td><td style=\"text-align: right;\">          17.2</td><td style=\"text-align: right;\">    78</td><td style=\"text-align: right;\">              0</td></tr>\n<tr><td>AMC Concord            </td><td style=\"text-align: right;\">     24.3</td><td style=\"text-align: right;\">          4</td><td style=\"text-align: right;\">           151</td><td style=\"text-align: right;\">     90</td><td style=\"text-align: right;\">    3003</td><td style=\"text-align: right;\">          20.1</td><td style=\"text-align: right;\">    80</td><td style=\"text-align: right;\">              1</td></tr>\n<tr><td>AMC Gremlin            </td><td style=\"text-align: right;\">     18  </td><td style=\"text-align: right;\">          6</td><td style=\"text-align: right;\">           232</td><td style=\"text-align: right;\">    100</td><td style=\"text-align: right;\">    2789</td><td style=\"text-align: right;\">          15  </td><td style=\"text-align: right;\">    73</td><td style=\"text-align: right;\">              0</td></tr>\n<tr><td>AMC Gremlin            </td><td style=\"text-align: right;\">     19  </td><td style=\"text-align: right;\">          6</td><td style=\"text-align: right;\">           232</td><td style=\"text-align: right;\">    100</td><td style=\"text-align: right;\">    2634</td><td style=\"text-align: right;\">          13  </td><td style=\"text-align: right;\">    71</td><td style=\"text-align: right;\">              0</td></tr>\n</tbody>\n</table>"
     },
     "metadata": {},
     "output_type": "display_data"
    },
    {
     "data": {
      "text/plain": ""
     },
     "execution_count": 6,
     "metadata": {},
     "output_type": "execute_result"
    }
   ],
   "source": [
    "mpg"
   ],
   "metadata": {
    "collapsed": false,
    "pycharm": {
     "name": "#%%\n"
    }
   }
  },
  {
   "cell_type": "markdown",
   "source": [
    "Es posible transformar el objeto `H20Frame` a `pd.DataFrame` con el método `.as_data_frame()`."
   ],
   "metadata": {
    "collapsed": false,
    "pycharm": {
     "name": "#%% md\n"
    }
   }
  },
  {
   "cell_type": "code",
   "execution_count": 125,
   "outputs": [
    {
     "data": {
      "text/plain": "                      name  economy  cylinders  displacement  power  weight  \\\n0  AMC Ambassador Brougham     13.0          8         360.0  175.0    3821   \n1       AMC Ambassador DPL     15.0          8         390.0  190.0    3850   \n2       AMC Ambassador SST     17.0          8         304.0  150.0    3672   \n\n   acceleration  year  economy_20mpg  \n0          11.0    73            0.0  \n1           8.5    70            0.0  \n2          11.5    72            0.0  ",
      "text/html": "<div>\n<style scoped>\n    .dataframe tbody tr th:only-of-type {\n        vertical-align: middle;\n    }\n\n    .dataframe tbody tr th {\n        vertical-align: top;\n    }\n\n    .dataframe thead th {\n        text-align: right;\n    }\n</style>\n<table border=\"1\" class=\"dataframe\">\n  <thead>\n    <tr style=\"text-align: right;\">\n      <th></th>\n      <th>name</th>\n      <th>economy</th>\n      <th>cylinders</th>\n      <th>displacement</th>\n      <th>power</th>\n      <th>weight</th>\n      <th>acceleration</th>\n      <th>year</th>\n      <th>economy_20mpg</th>\n    </tr>\n  </thead>\n  <tbody>\n    <tr>\n      <th>0</th>\n      <td>AMC Ambassador Brougham</td>\n      <td>13.0</td>\n      <td>8</td>\n      <td>360.0</td>\n      <td>175.0</td>\n      <td>3821</td>\n      <td>11.0</td>\n      <td>73</td>\n      <td>0.0</td>\n    </tr>\n    <tr>\n      <th>1</th>\n      <td>AMC Ambassador DPL</td>\n      <td>15.0</td>\n      <td>8</td>\n      <td>390.0</td>\n      <td>190.0</td>\n      <td>3850</td>\n      <td>8.5</td>\n      <td>70</td>\n      <td>0.0</td>\n    </tr>\n    <tr>\n      <th>2</th>\n      <td>AMC Ambassador SST</td>\n      <td>17.0</td>\n      <td>8</td>\n      <td>304.0</td>\n      <td>150.0</td>\n      <td>3672</td>\n      <td>11.5</td>\n      <td>72</td>\n      <td>0.0</td>\n    </tr>\n  </tbody>\n</table>\n</div>"
     },
     "execution_count": 125,
     "metadata": {},
     "output_type": "execute_result"
    }
   ],
   "source": [
    "mpg_df = mpg.as_data_frame()\n",
    "mpg_df.head(n=3)"
   ],
   "metadata": {
    "collapsed": false,
    "pycharm": {
     "name": "#%%\n"
    }
   }
  },
  {
   "cell_type": "code",
   "execution_count": 126,
   "outputs": [
    {
     "data": {
      "text/plain": "<Figure size 432x288 with 1 Axes>",
      "image/png": "[encoded data removed]"
     },
     "metadata": {
      "needs_background": "light"
     },
     "output_type": "display_data"
    }
   ],
   "source": [
    "plt.scatter(mpg_df.displacement, mpg_df.power, c=mpg_df.economy_20mpg);\n",
    "plt.xlabel('displacement');\n",
    "plt.ylabel('power');\n",
    "plt.grid(linewidth=0.7, color='lightgrey');"
   ],
   "metadata": {
    "collapsed": false,
    "pycharm": {
     "name": "#%%\n"
    }
   }
  },
  {
   "cell_type": "code",
   "execution_count": 127,
   "outputs": [
    {
     "data": {
      "text/plain": "   economy_20mpg  name\n0            0.0    95\n1            1.0     3",
      "text/html": "<div>\n<style scoped>\n    .dataframe tbody tr th:only-of-type {\n        vertical-align: middle;\n    }\n\n    .dataframe tbody tr th {\n        vertical-align: top;\n    }\n\n    .dataframe thead th {\n        text-align: right;\n    }\n</style>\n<table border=\"1\" class=\"dataframe\">\n  <thead>\n    <tr style=\"text-align: right;\">\n      <th></th>\n      <th>economy_20mpg</th>\n      <th>name</th>\n    </tr>\n  </thead>\n  <tbody>\n    <tr>\n      <th>0</th>\n      <td>0.0</td>\n      <td>95</td>\n    </tr>\n    <tr>\n      <th>1</th>\n      <td>1.0</td>\n      <td>3</td>\n    </tr>\n  </tbody>\n</table>\n</div>"
     },
     "execution_count": 127,
     "metadata": {},
     "output_type": "execute_result"
    }
   ],
   "source": [
    "mpg_df\\\n",
    "    .loc[mpg_df.displacement > 300, :]\\\n",
    "    .groupby('economy_20mpg')\\\n",
    "    .count()['name']\\\n",
    "    .reset_index()"
   ],
   "metadata": {
    "collapsed": false,
    "pycharm": {
     "name": "#%%\n"
    }
   }
  },
  {
   "cell_type": "markdown",
   "source": [
    "## H2o workflow\n",
    "\n",
    "Documentación: https://h2o-release.s3.amazonaws.com/h2o/rel-zumbo/2/docs-website/h2o-docs/starting-h2o.html\n"
   ],
   "metadata": {
    "collapsed": false,
    "pycharm": {
     "name": "#%% md\n"
    }
   }
  },
  {
   "cell_type": "markdown",
   "source": [
    "Explorar la estructura de un `H20Frame`:"
   ],
   "metadata": {
    "collapsed": false,
    "pycharm": {
     "name": "#%% md\n"
    }
   }
  },
  {
   "cell_type": "code",
   "execution_count": 128,
   "outputs": [
    {
     "data": {
      "text/plain": "[406, 9]"
     },
     "execution_count": 128,
     "metadata": {},
     "output_type": "execute_result"
    }
   ],
   "source": [
    "# dimensiones de la tabla\n",
    "mpg.dim"
   ],
   "metadata": {
    "collapsed": false,
    "pycharm": {
     "name": "#%%\n"
    }
   }
  },
  {
   "cell_type": "code",
   "execution_count": 129,
   "outputs": [
    {
     "data": {
      "text/plain": "(406, 9)"
     },
     "execution_count": 129,
     "metadata": {},
     "output_type": "execute_result"
    }
   ],
   "source": [
    "mpg_df.shape"
   ],
   "metadata": {
    "collapsed": false,
    "pycharm": {
     "name": "#%%\n"
    }
   }
  },
  {
   "cell_type": "code",
   "execution_count": 130,
   "outputs": [
    {
     "data": {
      "text/html": "<table>\n<thead>\n<tr><th style=\"text-align: right;\">  cylinders</th><th style=\"text-align: right;\">  mean_displacement</th></tr>\n</thead>\n<tbody>\n<tr><td style=\"text-align: right;\">          3</td><td style=\"text-align: right;\">             72.5  </td></tr>\n<tr><td style=\"text-align: right;\">          4</td><td style=\"text-align: right;\">            109.901</td></tr>\n<tr><td style=\"text-align: right;\">          5</td><td style=\"text-align: right;\">            145    </td></tr>\n<tr><td style=\"text-align: right;\">          6</td><td style=\"text-align: right;\">            218.143</td></tr>\n<tr><td style=\"text-align: right;\">          8</td><td style=\"text-align: right;\">            345.204</td></tr>\n</tbody>\n</table>"
     },
     "metadata": {},
     "output_type": "display_data"
    },
    {
     "data": {
      "text/plain": ""
     },
     "execution_count": 130,
     "metadata": {},
     "output_type": "execute_result"
    }
   ],
   "source": [
    "mpg\\\n",
    "    .group_by('cylinders')\\\n",
    "    .mean('displacement')\\\n",
    "    .get_frame()"
   ],
   "metadata": {
    "collapsed": false,
    "pycharm": {
     "name": "#%%\n"
    }
   }
  },
  {
   "cell_type": "markdown",
   "source": [
    "Verifiquemos el monto anterior con pandas:"
   ],
   "metadata": {
    "collapsed": false,
    "pycharm": {
     "name": "#%% md\n"
    }
   }
  },
  {
   "cell_type": "code",
   "execution_count": 131,
   "outputs": [
    {
     "data": {
      "text/plain": "           displacement\ncylinders              \n3             72.500000\n4            109.900966\n5            145.000000\n6            218.142857\n8            345.203704",
      "text/html": "<div>\n<style scoped>\n    .dataframe tbody tr th:only-of-type {\n        vertical-align: middle;\n    }\n\n    .dataframe tbody tr th {\n        vertical-align: top;\n    }\n\n    .dataframe thead th {\n        text-align: right;\n    }\n</style>\n<table border=\"1\" class=\"dataframe\">\n  <thead>\n    <tr style=\"text-align: right;\">\n      <th></th>\n      <th>displacement</th>\n    </tr>\n    <tr>\n      <th>cylinders</th>\n      <th></th>\n    </tr>\n  </thead>\n  <tbody>\n    <tr>\n      <th>3</th>\n      <td>72.500000</td>\n    </tr>\n    <tr>\n      <th>4</th>\n      <td>109.900966</td>\n    </tr>\n    <tr>\n      <th>5</th>\n      <td>145.000000</td>\n    </tr>\n    <tr>\n      <th>6</th>\n      <td>218.142857</td>\n    </tr>\n    <tr>\n      <th>8</th>\n      <td>345.203704</td>\n    </tr>\n  </tbody>\n</table>\n</div>"
     },
     "execution_count": 131,
     "metadata": {},
     "output_type": "execute_result"
    }
   ],
   "source": [
    "mpg_df[['cylinders', 'displacement']]\\\n",
    "    .groupby('cylinders')\\\n",
    "    .mean()"
   ],
   "metadata": {
    "collapsed": false,
    "pycharm": {
     "name": "#%%\n"
    }
   }
  },
  {
   "cell_type": "markdown",
   "source": [
    "## AutoML: Automatic Machine Learning"
   ],
   "metadata": {
    "collapsed": false,
    "pycharm": {
     "name": "#%% md\n"
    }
   }
  },
  {
   "cell_type": "markdown",
   "source": [
    "Una de las funcionalidades de `H2o` es el modulo AutoML que permite correr diferentes modelos de una misma familia con distinta configuración o de diferentes familias.\n"
   ],
   "metadata": {
    "collapsed": false,
    "pycharm": {
     "name": "#%% md\n"
    }
   }
  },
  {
   "cell_type": "code",
   "execution_count": 132,
   "outputs": [],
   "source": [
    " predictors = [\"displacement\", \"power\", \"weight\", \"acceleration\", \"year\"]\n",
    " response = \"economy_20mpg\""
   ],
   "metadata": {
    "collapsed": false,
    "pycharm": {
     "name": "#%%\n"
    }
   }
  },
  {
   "cell_type": "markdown",
   "source": [
    "Traemos los datos directamente desde la tabla `H2o.mpg_cars20`."
   ],
   "metadata": {
    "collapsed": false,
    "pycharm": {
     "name": "#%% md\n"
    }
   }
  },
  {
   "cell_type": "code",
   "execution_count": 133,
   "outputs": [
    {
     "name": "stdout",
     "output_type": "stream",
     "text": [
      "Import SQL Table progress: |█████████████████████████████████████████████████████| (done) 100%\n"
     ]
    },
    {
     "data": {
      "text/html": "<table>\n<thead>\n<tr><th>name                   </th><th style=\"text-align: right;\">  economy</th><th style=\"text-align: right;\">  cylinders</th><th style=\"text-align: right;\">  displacement</th><th style=\"text-align: right;\">  power</th><th style=\"text-align: right;\">  weight</th><th style=\"text-align: right;\">  acceleration</th><th style=\"text-align: right;\">  year</th><th style=\"text-align: right;\">  economy_20mpg</th></tr>\n</thead>\n<tbody>\n<tr><td>AMC Ambassador Brougham</td><td style=\"text-align: right;\">     13  </td><td style=\"text-align: right;\">          8</td><td style=\"text-align: right;\">           360</td><td style=\"text-align: right;\">    175</td><td style=\"text-align: right;\">    3821</td><td style=\"text-align: right;\">          11  </td><td style=\"text-align: right;\">    73</td><td style=\"text-align: right;\">              0</td></tr>\n<tr><td>AMC Ambassador DPL     </td><td style=\"text-align: right;\">     15  </td><td style=\"text-align: right;\">          8</td><td style=\"text-align: right;\">           390</td><td style=\"text-align: right;\">    190</td><td style=\"text-align: right;\">    3850</td><td style=\"text-align: right;\">           8.5</td><td style=\"text-align: right;\">    70</td><td style=\"text-align: right;\">              0</td></tr>\n<tr><td>AMC Ambassador SST     </td><td style=\"text-align: right;\">     17  </td><td style=\"text-align: right;\">          8</td><td style=\"text-align: right;\">           304</td><td style=\"text-align: right;\">    150</td><td style=\"text-align: right;\">    3672</td><td style=\"text-align: right;\">          11.5</td><td style=\"text-align: right;\">    72</td><td style=\"text-align: right;\">              0</td></tr>\n<tr><td>AMC Concord DL 6       </td><td style=\"text-align: right;\">     20.2</td><td style=\"text-align: right;\">          6</td><td style=\"text-align: right;\">           232</td><td style=\"text-align: right;\">     90</td><td style=\"text-align: right;\">    3265</td><td style=\"text-align: right;\">          18.2</td><td style=\"text-align: right;\">    79</td><td style=\"text-align: right;\">              1</td></tr>\n<tr><td>AMC Concord DL         </td><td style=\"text-align: right;\">     18.1</td><td style=\"text-align: right;\">          6</td><td style=\"text-align: right;\">           258</td><td style=\"text-align: right;\">    120</td><td style=\"text-align: right;\">    3410</td><td style=\"text-align: right;\">          15.1</td><td style=\"text-align: right;\">    78</td><td style=\"text-align: right;\">              0</td></tr>\n<tr><td>AMC Concord DL         </td><td style=\"text-align: right;\">     23  </td><td style=\"text-align: right;\">          4</td><td style=\"text-align: right;\">           151</td><td style=\"text-align: right;\">    nan</td><td style=\"text-align: right;\">    3035</td><td style=\"text-align: right;\">          20.5</td><td style=\"text-align: right;\">    82</td><td style=\"text-align: right;\">              1</td></tr>\n<tr><td>AMC Concord            </td><td style=\"text-align: right;\">     19.4</td><td style=\"text-align: right;\">          6</td><td style=\"text-align: right;\">           232</td><td style=\"text-align: right;\">     90</td><td style=\"text-align: right;\">    3210</td><td style=\"text-align: right;\">          17.2</td><td style=\"text-align: right;\">    78</td><td style=\"text-align: right;\">              0</td></tr>\n<tr><td>AMC Concord            </td><td style=\"text-align: right;\">     24.3</td><td style=\"text-align: right;\">          4</td><td style=\"text-align: right;\">           151</td><td style=\"text-align: right;\">     90</td><td style=\"text-align: right;\">    3003</td><td style=\"text-align: right;\">          20.1</td><td style=\"text-align: right;\">    80</td><td style=\"text-align: right;\">              1</td></tr>\n<tr><td>AMC Gremlin            </td><td style=\"text-align: right;\">     18  </td><td style=\"text-align: right;\">          6</td><td style=\"text-align: right;\">           232</td><td style=\"text-align: right;\">    100</td><td style=\"text-align: right;\">    2789</td><td style=\"text-align: right;\">          15  </td><td style=\"text-align: right;\">    73</td><td style=\"text-align: right;\">              0</td></tr>\n<tr><td>AMC Gremlin            </td><td style=\"text-align: right;\">     19  </td><td style=\"text-align: right;\">          6</td><td style=\"text-align: right;\">           232</td><td style=\"text-align: right;\">    100</td><td style=\"text-align: right;\">    2634</td><td style=\"text-align: right;\">          13  </td><td style=\"text-align: right;\">    71</td><td style=\"text-align: right;\">              0</td></tr>\n</tbody>\n</table>"
     },
     "metadata": {},
     "output_type": "display_data"
    },
    {
     "name": "stdout",
     "output_type": "stream",
     "text": [
      "\n"
     ]
    }
   ],
   "source": [
    "select_query = \"SELECT * from cars_20mpg\"\n",
    "mariaDBQuery = h2o.import_sql_select(conn_url, select_query, username, password)\n",
    "print(mariaDBQuery)"
   ],
   "metadata": {
    "collapsed": false,
    "pycharm": {
     "name": "#%%\n"
    }
   }
  },
  {
   "cell_type": "markdown",
   "source": [
    "Transformamos la variable dependiente (i.e. response) en una categorica."
   ],
   "metadata": {
    "collapsed": false,
    "pycharm": {
     "name": "#%% md\n"
    }
   }
  },
  {
   "cell_type": "code",
   "execution_count": 134,
   "outputs": [],
   "source": [
    "mariaDBQuery['economy_20mpg'] = mariaDBQuery['economy_20mpg'].asfactor()"
   ],
   "metadata": {
    "collapsed": false,
    "pycharm": {
     "name": "#%%\n"
    }
   }
  },
  {
   "cell_type": "markdown",
   "source": [
    "Utilizamos el método `.split_frame` para dividir en conjunto de entrenamiento y validación."
   ],
   "metadata": {
    "collapsed": false,
    "pycharm": {
     "name": "#%% md\n"
    }
   }
  },
  {
   "cell_type": "code",
   "execution_count": 135,
   "outputs": [],
   "source": [
    "train, valid = mariaDBQuery.split_frame(ratios=[.8], seed=42)"
   ],
   "metadata": {
    "collapsed": false,
    "pycharm": {
     "name": "#%%\n"
    }
   }
  },
  {
   "cell_type": "markdown",
   "source": [
    "Analizamos las dimensiones de caja conjunto de datos."
   ],
   "metadata": {
    "collapsed": false,
    "pycharm": {
     "name": "#%% md\n"
    }
   }
  },
  {
   "cell_type": "code",
   "execution_count": 136,
   "outputs": [
    {
     "data": {
      "text/plain": "([321, 9], [85, 9])"
     },
     "execution_count": 136,
     "metadata": {},
     "output_type": "execute_result"
    }
   ],
   "source": [
    "train.dim, valid.dim"
   ],
   "metadata": {
    "collapsed": false,
    "pycharm": {
     "name": "#%%\n"
    }
   }
  },
  {
   "cell_type": "markdown",
   "source": [
    "Ahora le pediremos a `H20` que corra 15 modelos y entregue un reporte con el _ranking_ de los resultados reportados por los modelos una vez ajustados."
   ],
   "metadata": {
    "collapsed": false,
    "pycharm": {
     "name": "#%% md\n"
    }
   }
  },
  {
   "cell_type": "code",
   "execution_count": 137,
   "outputs": [
    {
     "name": "stdout",
     "output_type": "stream",
     "text": [
      "AutoML progress: |\n",
      "02:34:09.707: XGBoost_1_AutoML_3_20220614_23409 [XGBoost def_2] failed: water.exceptions.H2OModelBuilderIllegalArgumentException: Illegal argument(s) for XGBoost model: XGBoost_1_AutoML_3_20220614_23409_cv_1.  Details: ERRR on field: _response_column: Response contains missing values (NAs) - not supported by XGBoost.\n",
      "\n",
      "\n",
      "\n",
      "02:34:10.408: XGBoost_2_AutoML_3_20220614_23409 [XGBoost def_1] failed: water.exceptions.H2OModelBuilderIllegalArgumentException: Illegal argument(s) for XGBoost model: XGBoost_2_AutoML_3_20220614_23409_cv_1.  Details: ERRR on field: _response_column: Response contains missing values (NAs) - not supported by XGBoost.\n",
      "\n",
      "\n",
      "████\n",
      "02:34:11.740: XGBoost_3_AutoML_3_20220614_23409 [XGBoost def_3] failed: water.exceptions.H2OModelBuilderIllegalArgumentException: Illegal argument(s) for XGBoost model: XGBoost_3_AutoML_3_20220614_23409_cv_1.  Details: ERRR on field: _response_column: Response contains missing values (NAs) - not supported by XGBoost.\n",
      "\n",
      "\n",
      "███████████████████████████████████████████████████████████| (done) 100%\n"
     ]
    },
    {
     "data": {
      "text/html": "<table>\n<thead>\n<tr><th>model_id                                              </th><th style=\"text-align: right;\">     auc</th><th style=\"text-align: right;\">  logloss</th><th style=\"text-align: right;\">   aucpr</th><th style=\"text-align: right;\">  mean_per_class_error</th><th style=\"text-align: right;\">    rmse</th><th style=\"text-align: right;\">      mse</th></tr>\n</thead>\n<tbody>\n<tr><td>GLM_1_AutoML_3_20220614_23409                         </td><td style=\"text-align: right;\">0.979654</td><td style=\"text-align: right;\"> 0.176432</td><td style=\"text-align: right;\">0.986297</td><td style=\"text-align: right;\">             0.0764057</td><td style=\"text-align: right;\">0.232072</td><td style=\"text-align: right;\">0.0538576</td></tr>\n<tr><td>GBM_3_AutoML_3_20220614_23409                         </td><td style=\"text-align: right;\">0.979356</td><td style=\"text-align: right;\"> 0.183466</td><td style=\"text-align: right;\">0.986354</td><td style=\"text-align: right;\">             0.0793002</td><td style=\"text-align: right;\">0.238072</td><td style=\"text-align: right;\">0.0566782</td></tr>\n<tr><td>GBM_grid_1_AutoML_3_20220614_23409_model_2            </td><td style=\"text-align: right;\">0.979185</td><td style=\"text-align: right;\"> 0.185499</td><td style=\"text-align: right;\">0.986247</td><td style=\"text-align: right;\">             0.077853 </td><td style=\"text-align: right;\">0.240474</td><td style=\"text-align: right;\">0.0578276</td></tr>\n<tr><td>GBM_4_AutoML_3_20220614_23409                         </td><td style=\"text-align: right;\">0.979058</td><td style=\"text-align: right;\"> 0.183975</td><td style=\"text-align: right;\">0.986138</td><td style=\"text-align: right;\">             0.0810241</td><td style=\"text-align: right;\">0.237652</td><td style=\"text-align: right;\">0.0564785</td></tr>\n<tr><td>GBM_2_AutoML_3_20220614_23409                         </td><td style=\"text-align: right;\">0.977908</td><td style=\"text-align: right;\"> 0.187275</td><td style=\"text-align: right;\">0.984935</td><td style=\"text-align: right;\">             0.0728941</td><td style=\"text-align: right;\">0.236869</td><td style=\"text-align: right;\">0.0561068</td></tr>\n<tr><td>GBM_grid_1_AutoML_3_20220614_23409_model_1            </td><td style=\"text-align: right;\">0.977227</td><td style=\"text-align: right;\"> 0.202822</td><td style=\"text-align: right;\">0.984735</td><td style=\"text-align: right;\">             0.0821947</td><td style=\"text-align: right;\">0.243875</td><td style=\"text-align: right;\">0.0594753</td></tr>\n<tr><td>DeepLearning_grid_3_AutoML_3_20220614_23409_model_1   </td><td style=\"text-align: right;\">0.977057</td><td style=\"text-align: right;\"> 0.205477</td><td style=\"text-align: right;\">0.985194</td><td style=\"text-align: right;\">             0.0871536</td><td style=\"text-align: right;\">0.249107</td><td style=\"text-align: right;\">0.0620542</td></tr>\n<tr><td>DeepLearning_grid_1_AutoML_3_20220614_23409_model_1   </td><td style=\"text-align: right;\">0.976163</td><td style=\"text-align: right;\"> 0.204299</td><td style=\"text-align: right;\">0.984543</td><td style=\"text-align: right;\">             0.087707 </td><td style=\"text-align: right;\">0.253919</td><td style=\"text-align: right;\">0.0644748</td></tr>\n<tr><td>StackedEnsemble_AllModels_1_AutoML_3_20220614_23409   </td><td style=\"text-align: right;\">0.975567</td><td style=\"text-align: right;\"> 0.191446</td><td style=\"text-align: right;\">0.984326</td><td style=\"text-align: right;\">             0.0886009</td><td style=\"text-align: right;\">0.248136</td><td style=\"text-align: right;\">0.0615714</td></tr>\n<tr><td>StackedEnsemble_BestOfFamily_1_AutoML_3_20220614_23409</td><td style=\"text-align: right;\">0.975482</td><td style=\"text-align: right;\"> 0.190986</td><td style=\"text-align: right;\">0.983334</td><td style=\"text-align: right;\">             0.0850892</td><td style=\"text-align: right;\">0.244192</td><td style=\"text-align: right;\">0.0596295</td></tr>\n<tr><td>DeepLearning_grid_2_AutoML_3_20220614_23409_model_1   </td><td style=\"text-align: right;\">0.973801</td><td style=\"text-align: right;\"> 0.23408 </td><td style=\"text-align: right;\">0.982519</td><td style=\"text-align: right;\">             0.0897714</td><td style=\"text-align: right;\">0.259968</td><td style=\"text-align: right;\">0.0675832</td></tr>\n<tr><td>DRF_1_AutoML_3_20220614_23409                         </td><td style=\"text-align: right;\">0.972928</td><td style=\"text-align: right;\"> 0.195686</td><td style=\"text-align: right;\">0.981236</td><td style=\"text-align: right;\">             0.0891542</td><td style=\"text-align: right;\">0.245217</td><td style=\"text-align: right;\">0.0601313</td></tr>\n<tr><td>GBM_5_AutoML_3_20220614_23409                         </td><td style=\"text-align: right;\">0.971864</td><td style=\"text-align: right;\"> 0.21641 </td><td style=\"text-align: right;\">0.978426</td><td style=\"text-align: right;\">             0.0793002</td><td style=\"text-align: right;\">0.249756</td><td style=\"text-align: right;\">0.0623778</td></tr>\n<tr><td>GBM_1_AutoML_3_20220614_23409                         </td><td style=\"text-align: right;\">0.971523</td><td style=\"text-align: right;\"> 0.209053</td><td style=\"text-align: right;\">0.980508</td><td style=\"text-align: right;\">             0.0941131</td><td style=\"text-align: right;\">0.248853</td><td style=\"text-align: right;\">0.0619276</td></tr>\n<tr><td>DeepLearning_1_AutoML_3_20220614_23409                </td><td style=\"text-align: right;\">0.97097 </td><td style=\"text-align: right;\"> 0.210694</td><td style=\"text-align: right;\">0.976973</td><td style=\"text-align: right;\">             0.0735113</td><td style=\"text-align: right;\">0.245488</td><td style=\"text-align: right;\">0.0602645</td></tr>\n<tr><td>XRT_1_AutoML_3_20220614_23409                         </td><td style=\"text-align: right;\">0.967139</td><td style=\"text-align: right;\"> 0.399267</td><td style=\"text-align: right;\">0.969758</td><td style=\"text-align: right;\">             0.0821947</td><td style=\"text-align: right;\">0.246484</td><td style=\"text-align: right;\">0.0607542</td></tr>\n<tr><td>GBM_grid_1_AutoML_3_20220614_23409_model_3            </td><td style=\"text-align: right;\">0.966501</td><td style=\"text-align: right;\"> 0.226485</td><td style=\"text-align: right;\">0.976266</td><td style=\"text-align: right;\">             0.0943898</td><td style=\"text-align: right;\">0.256807</td><td style=\"text-align: right;\">0.0659498</td></tr>\n</tbody>\n</table>"
     },
     "metadata": {},
     "output_type": "display_data"
    },
    {
     "data": {
      "text/plain": ""
     },
     "execution_count": 137,
     "metadata": {},
     "output_type": "execute_result"
    }
   ],
   "source": [
    "aml = H2OAutoML(max_models=15, seed=42)\n",
    "aml.train(x=predictors, y=response, training_frame=train)\n",
    "\n",
    "# View the AutoML Leaderboard\n",
    "lb = aml.leaderboard\n",
    "lb.head(rows=lb.nrows)  # Print all rows instead of default (10 rows)"
   ],
   "metadata": {
    "collapsed": false,
    "pycharm": {
     "name": "#%%\n"
    }
   }
  },
  {
   "cell_type": "markdown",
   "source": [
    "Es posible pedir un reporta más detallado:"
   ],
   "metadata": {
    "collapsed": false,
    "pycharm": {
     "name": "#%% md\n"
    }
   }
  },
  {
   "cell_type": "code",
   "execution_count": 138,
   "outputs": [
    {
     "data": {
      "text/html": "<table>\n<thead>\n<tr><th>model_id                                              </th><th style=\"text-align: right;\">     auc</th><th style=\"text-align: right;\">  logloss</th><th style=\"text-align: right;\">   aucpr</th><th style=\"text-align: right;\">  mean_per_class_error</th><th style=\"text-align: right;\">    rmse</th><th style=\"text-align: right;\">      mse</th><th style=\"text-align: right;\">  training_time_ms</th><th style=\"text-align: right;\">  predict_time_per_row_ms</th><th>algo           </th></tr>\n</thead>\n<tbody>\n<tr><td>GLM_1_AutoML_3_20220614_23409                         </td><td style=\"text-align: right;\">0.979654</td><td style=\"text-align: right;\"> 0.176432</td><td style=\"text-align: right;\">0.986297</td><td style=\"text-align: right;\">             0.0764057</td><td style=\"text-align: right;\">0.232072</td><td style=\"text-align: right;\">0.0538576</td><td style=\"text-align: right;\">                30</td><td style=\"text-align: right;\">                 0.012491</td><td>GLM            </td></tr>\n<tr><td>GBM_3_AutoML_3_20220614_23409                         </td><td style=\"text-align: right;\">0.979356</td><td style=\"text-align: right;\"> 0.183466</td><td style=\"text-align: right;\">0.986354</td><td style=\"text-align: right;\">             0.0793002</td><td style=\"text-align: right;\">0.238072</td><td style=\"text-align: right;\">0.0566782</td><td style=\"text-align: right;\">                77</td><td style=\"text-align: right;\">                 0.018185</td><td>GBM            </td></tr>\n<tr><td>GBM_grid_1_AutoML_3_20220614_23409_model_2            </td><td style=\"text-align: right;\">0.979185</td><td style=\"text-align: right;\"> 0.185499</td><td style=\"text-align: right;\">0.986247</td><td style=\"text-align: right;\">             0.077853 </td><td style=\"text-align: right;\">0.240474</td><td style=\"text-align: right;\">0.0578276</td><td style=\"text-align: right;\">                81</td><td style=\"text-align: right;\">                 0.019523</td><td>GBM            </td></tr>\n<tr><td>GBM_4_AutoML_3_20220614_23409                         </td><td style=\"text-align: right;\">0.979058</td><td style=\"text-align: right;\"> 0.183975</td><td style=\"text-align: right;\">0.986138</td><td style=\"text-align: right;\">             0.0810241</td><td style=\"text-align: right;\">0.237652</td><td style=\"text-align: right;\">0.0564785</td><td style=\"text-align: right;\">               101</td><td style=\"text-align: right;\">                 0.020173</td><td>GBM            </td></tr>\n<tr><td>GBM_2_AutoML_3_20220614_23409                         </td><td style=\"text-align: right;\">0.977908</td><td style=\"text-align: right;\"> 0.187275</td><td style=\"text-align: right;\">0.984935</td><td style=\"text-align: right;\">             0.0728941</td><td style=\"text-align: right;\">0.236869</td><td style=\"text-align: right;\">0.0561068</td><td style=\"text-align: right;\">                85</td><td style=\"text-align: right;\">                 0.046593</td><td>GBM            </td></tr>\n<tr><td>GBM_grid_1_AutoML_3_20220614_23409_model_1            </td><td style=\"text-align: right;\">0.977227</td><td style=\"text-align: right;\"> 0.202822</td><td style=\"text-align: right;\">0.984735</td><td style=\"text-align: right;\">             0.0821947</td><td style=\"text-align: right;\">0.243875</td><td style=\"text-align: right;\">0.0594753</td><td style=\"text-align: right;\">                59</td><td style=\"text-align: right;\">                 0.033784</td><td>GBM            </td></tr>\n<tr><td>DeepLearning_grid_3_AutoML_3_20220614_23409_model_1   </td><td style=\"text-align: right;\">0.977057</td><td style=\"text-align: right;\"> 0.205477</td><td style=\"text-align: right;\">0.985194</td><td style=\"text-align: right;\">             0.0871536</td><td style=\"text-align: right;\">0.249107</td><td style=\"text-align: right;\">0.0620542</td><td style=\"text-align: right;\">              5046</td><td style=\"text-align: right;\">                 0.02522 </td><td>DeepLearning   </td></tr>\n<tr><td>DeepLearning_grid_1_AutoML_3_20220614_23409_model_1   </td><td style=\"text-align: right;\">0.976163</td><td style=\"text-align: right;\"> 0.204299</td><td style=\"text-align: right;\">0.984543</td><td style=\"text-align: right;\">             0.087707 </td><td style=\"text-align: right;\">0.253919</td><td style=\"text-align: right;\">0.0644748</td><td style=\"text-align: right;\">              5430</td><td style=\"text-align: right;\">                 0.019073</td><td>DeepLearning   </td></tr>\n<tr><td>StackedEnsemble_AllModels_1_AutoML_3_20220614_23409   </td><td style=\"text-align: right;\">0.975567</td><td style=\"text-align: right;\"> 0.191446</td><td style=\"text-align: right;\">0.984326</td><td style=\"text-align: right;\">             0.0886009</td><td style=\"text-align: right;\">0.248136</td><td style=\"text-align: right;\">0.0615714</td><td style=\"text-align: right;\">              1030</td><td style=\"text-align: right;\">                 0.063799</td><td>StackedEnsemble</td></tr>\n<tr><td>StackedEnsemble_BestOfFamily_1_AutoML_3_20220614_23409</td><td style=\"text-align: right;\">0.975482</td><td style=\"text-align: right;\"> 0.190986</td><td style=\"text-align: right;\">0.983334</td><td style=\"text-align: right;\">             0.0850892</td><td style=\"text-align: right;\">0.244192</td><td style=\"text-align: right;\">0.0596295</td><td style=\"text-align: right;\">              1054</td><td style=\"text-align: right;\">                 0.033428</td><td>StackedEnsemble</td></tr>\n</tbody>\n</table>"
     },
     "metadata": {},
     "output_type": "display_data"
    },
    {
     "data": {
      "text/plain": ""
     },
     "execution_count": 138,
     "metadata": {},
     "output_type": "execute_result"
    }
   ],
   "source": [
    "aml.get_leaderboard(extra_columns='ALL')"
   ],
   "metadata": {
    "collapsed": false,
    "pycharm": {
     "name": "#%%\n"
    }
   }
  },
  {
   "cell_type": "markdown",
   "source": [
    "¿Cómo podemos extraer información más detallada de uno de los modelos anteriores?\n",
    "\n",
    "Utilizar `h2o.get_model('model_id')`, donde `model_id` están especificados en el reporte de arriba."
   ],
   "metadata": {
    "collapsed": false,
    "pycharm": {
     "name": "#%% md\n"
    }
   }
  },
  {
   "cell_type": "markdown",
   "source": [
    "Extraigamos una de las redes neuronales."
   ],
   "metadata": {
    "collapsed": false,
    "pycharm": {
     "name": "#%% md\n"
    }
   }
  },
  {
   "cell_type": "code",
   "execution_count": 139,
   "outputs": [
    {
     "name": "stdout",
     "output_type": "stream",
     "text": [
      "Model Details\n",
      "=============\n",
      "H2ODeepLearningEstimator :  Deep Learning\n",
      "Model Key:  DeepLearning_grid_1_AutoML_2_20220614_20958_model_1\n",
      "\n",
      "\n",
      "Status of Neuron Layers: predicting economy_20mpg, 2-class classification, bernoulli distribution, CrossEntropy loss, 162 weights/biases, 5.4 KB, 3,212,220 training samples, mini-batch size 1\n"
     ]
    },
    {
     "data": {
      "text/plain": "     layer  units              type dropout   l1   l2 mean_rate  rate_rms  \\\n0        1      5             Input    15.0                                 \n1        2     20  RectifierDropout     0.0  0.0  0.0  0.000719  0.000406   \n2        3      2           Softmax          0.0  0.0  0.000918  0.000377   \n\n  momentum mean_weight weight_rms mean_bias  bias_rms  \n0                                                      \n1      0.0    0.051329   1.029756  1.088549  0.493657  \n2      0.0   -0.120623   2.195915 -0.016103  0.451796  ",
      "text/html": "<div>\n<style scoped>\n    .dataframe tbody tr th:only-of-type {\n        vertical-align: middle;\n    }\n\n    .dataframe tbody tr th {\n        vertical-align: top;\n    }\n\n    .dataframe thead th {\n        text-align: right;\n    }\n</style>\n<table border=\"1\" class=\"dataframe\">\n  <thead>\n    <tr style=\"text-align: right;\">\n      <th></th>\n      <th></th>\n      <th>layer</th>\n      <th>units</th>\n      <th>type</th>\n      <th>dropout</th>\n      <th>l1</th>\n      <th>l2</th>\n      <th>mean_rate</th>\n      <th>rate_rms</th>\n      <th>momentum</th>\n      <th>mean_weight</th>\n      <th>weight_rms</th>\n      <th>mean_bias</th>\n      <th>bias_rms</th>\n    </tr>\n  </thead>\n  <tbody>\n    <tr>\n      <th>0</th>\n      <td></td>\n      <td>1</td>\n      <td>5</td>\n      <td>Input</td>\n      <td>15.0</td>\n      <td></td>\n      <td></td>\n      <td></td>\n      <td></td>\n      <td></td>\n      <td></td>\n      <td></td>\n      <td></td>\n      <td></td>\n    </tr>\n    <tr>\n      <th>1</th>\n      <td></td>\n      <td>2</td>\n      <td>20</td>\n      <td>RectifierDropout</td>\n      <td>0.0</td>\n      <td>0.0</td>\n      <td>0.0</td>\n      <td>0.000719</td>\n      <td>0.000406</td>\n      <td>0.0</td>\n      <td>0.051329</td>\n      <td>1.029756</td>\n      <td>1.088549</td>\n      <td>0.493657</td>\n    </tr>\n    <tr>\n      <th>2</th>\n      <td></td>\n      <td>3</td>\n      <td>2</td>\n      <td>Softmax</td>\n      <td></td>\n      <td>0.0</td>\n      <td>0.0</td>\n      <td>0.000918</td>\n      <td>0.000377</td>\n      <td>0.0</td>\n      <td>-0.120623</td>\n      <td>2.195915</td>\n      <td>-0.016103</td>\n      <td>0.451796</td>\n    </tr>\n  </tbody>\n</table>\n</div>"
     },
     "metadata": {},
     "output_type": "display_data"
    },
    {
     "name": "stdout",
     "output_type": "stream",
     "text": [
      "\n",
      "\n",
      "ModelMetricsBinomial: deeplearning\n",
      "** Reported on train data. **\n",
      "\n",
      "MSE: 0.024382704183607783\n",
      "RMSE: 0.15614962114461817\n",
      "LogLoss: 0.07510856755316599\n",
      "Mean Per-Class Error: 0.028178606393393778\n",
      "AUC: 0.997786574724386\n",
      "AUCPR: 0.9986173959821428\n",
      "Gini: 0.9955731494487721\n",
      "\n",
      "Confusion Matrix (Act/Pred) for max f1 @ threshold = 0.6640995589441719: \n"
     ]
    },
    {
     "data": {
      "text/plain": "              0      1   Error          Rate\n0      0  118.0    5.0  0.0407   (5.0/123.0)\n1      1    3.0  188.0  0.0157   (3.0/191.0)\n2  Total  121.0  193.0  0.0255   (8.0/314.0)",
      "text/html": "<div>\n<style scoped>\n    .dataframe tbody tr th:only-of-type {\n        vertical-align: middle;\n    }\n\n    .dataframe tbody tr th {\n        vertical-align: top;\n    }\n\n    .dataframe thead th {\n        text-align: right;\n    }\n</style>\n<table border=\"1\" class=\"dataframe\">\n  <thead>\n    <tr style=\"text-align: right;\">\n      <th></th>\n      <th></th>\n      <th>0</th>\n      <th>1</th>\n      <th>Error</th>\n      <th>Rate</th>\n    </tr>\n  </thead>\n  <tbody>\n    <tr>\n      <th>0</th>\n      <td>0</td>\n      <td>118.0</td>\n      <td>5.0</td>\n      <td>0.0407</td>\n      <td>(5.0/123.0)</td>\n    </tr>\n    <tr>\n      <th>1</th>\n      <td>1</td>\n      <td>3.0</td>\n      <td>188.0</td>\n      <td>0.0157</td>\n      <td>(3.0/191.0)</td>\n    </tr>\n    <tr>\n      <th>2</th>\n      <td>Total</td>\n      <td>121.0</td>\n      <td>193.0</td>\n      <td>0.0255</td>\n      <td>(8.0/314.0)</td>\n    </tr>\n  </tbody>\n</table>\n</div>"
     },
     "metadata": {},
     "output_type": "display_data"
    },
    {
     "name": "stdout",
     "output_type": "stream",
     "text": [
      "\n",
      "Maximum Metrics: Maximum metrics at their respective thresholds\n"
     ]
    },
    {
     "data": {
      "text/plain": "                         metric     threshold       value    idx\n0                        max f1  6.640996e-01    0.979167  182.0\n1                        max f2  3.747227e-01    0.986570  193.0\n2                  max f0point5  8.872816e-01    0.989071  170.0\n3                  max accuracy  8.307090e-01    0.974522  174.0\n4                 max precision  9.999999e-01    1.000000    0.0\n5                    max recall  3.747227e-01    1.000000  193.0\n6               max specificity  9.999999e-01    1.000000    0.0\n7              max absolute_mcc  8.307090e-01    0.947747  174.0\n8    max min_per_class_accuracy  7.640630e-01    0.973822  178.0\n9   max mean_per_class_accuracy  8.307090e-01    0.977610  174.0\n10                      max tns  9.999999e-01  123.000000    0.0\n11                      max fns  9.999999e-01  190.000000    0.0\n12                      max fps  3.192951e-17  123.000000  303.0\n13                      max tps  3.747227e-01  191.000000  193.0\n14                      max tnr  9.999999e-01    1.000000    0.0\n15                      max fnr  9.999999e-01    0.994764    0.0\n16                      max fpr  3.192951e-17    1.000000  303.0\n17                      max tpr  3.747227e-01    1.000000  193.0",
      "text/html": "<div>\n<style scoped>\n    .dataframe tbody tr th:only-of-type {\n        vertical-align: middle;\n    }\n\n    .dataframe tbody tr th {\n        vertical-align: top;\n    }\n\n    .dataframe thead th {\n        text-align: right;\n    }\n</style>\n<table border=\"1\" class=\"dataframe\">\n  <thead>\n    <tr style=\"text-align: right;\">\n      <th></th>\n      <th>metric</th>\n      <th>threshold</th>\n      <th>value</th>\n      <th>idx</th>\n    </tr>\n  </thead>\n  <tbody>\n    <tr>\n      <th>0</th>\n      <td>max f1</td>\n      <td>6.640996e-01</td>\n      <td>0.979167</td>\n      <td>182.0</td>\n    </tr>\n    <tr>\n      <th>1</th>\n      <td>max f2</td>\n      <td>3.747227e-01</td>\n      <td>0.986570</td>\n      <td>193.0</td>\n    </tr>\n    <tr>\n      <th>2</th>\n      <td>max f0point5</td>\n      <td>8.872816e-01</td>\n      <td>0.989071</td>\n      <td>170.0</td>\n    </tr>\n    <tr>\n      <th>3</th>\n      <td>max accuracy</td>\n      <td>8.307090e-01</td>\n      <td>0.974522</td>\n      <td>174.0</td>\n    </tr>\n    <tr>\n      <th>4</th>\n      <td>max precision</td>\n      <td>9.999999e-01</td>\n      <td>1.000000</td>\n      <td>0.0</td>\n    </tr>\n    <tr>\n      <th>5</th>\n      <td>max recall</td>\n      <td>3.747227e-01</td>\n      <td>1.000000</td>\n      <td>193.0</td>\n    </tr>\n    <tr>\n      <th>6</th>\n      <td>max specificity</td>\n      <td>9.999999e-01</td>\n      <td>1.000000</td>\n      <td>0.0</td>\n    </tr>\n    <tr>\n      <th>7</th>\n      <td>max absolute_mcc</td>\n      <td>8.307090e-01</td>\n      <td>0.947747</td>\n      <td>174.0</td>\n    </tr>\n    <tr>\n      <th>8</th>\n      <td>max min_per_class_accuracy</td>\n      <td>7.640630e-01</td>\n      <td>0.973822</td>\n      <td>178.0</td>\n    </tr>\n    <tr>\n      <th>9</th>\n      <td>max mean_per_class_accuracy</td>\n      <td>8.307090e-01</td>\n      <td>0.977610</td>\n      <td>174.0</td>\n    </tr>\n    <tr>\n      <th>10</th>\n      <td>max tns</td>\n      <td>9.999999e-01</td>\n      <td>123.000000</td>\n      <td>0.0</td>\n    </tr>\n    <tr>\n      <th>11</th>\n      <td>max fns</td>\n      <td>9.999999e-01</td>\n      <td>190.000000</td>\n      <td>0.0</td>\n    </tr>\n    <tr>\n      <th>12</th>\n      <td>max fps</td>\n      <td>3.192951e-17</td>\n      <td>123.000000</td>\n      <td>303.0</td>\n    </tr>\n    <tr>\n      <th>13</th>\n      <td>max tps</td>\n      <td>3.747227e-01</td>\n      <td>191.000000</td>\n      <td>193.0</td>\n    </tr>\n    <tr>\n      <th>14</th>\n      <td>max tnr</td>\n      <td>9.999999e-01</td>\n      <td>1.000000</td>\n      <td>0.0</td>\n    </tr>\n    <tr>\n      <th>15</th>\n      <td>max fnr</td>\n      <td>9.999999e-01</td>\n      <td>0.994764</td>\n      <td>0.0</td>\n    </tr>\n    <tr>\n      <th>16</th>\n      <td>max fpr</td>\n      <td>3.192951e-17</td>\n      <td>1.000000</td>\n      <td>303.0</td>\n    </tr>\n    <tr>\n      <th>17</th>\n      <td>max tpr</td>\n      <td>3.747227e-01</td>\n      <td>1.000000</td>\n      <td>193.0</td>\n    </tr>\n  </tbody>\n</table>\n</div>"
     },
     "metadata": {},
     "output_type": "display_data"
    },
    {
     "name": "stdout",
     "output_type": "stream",
     "text": [
      "\n",
      "Gains/Lift Table: Avg response rate: 60.83 %, avg score: 63.22 %\n"
     ]
    },
    {
     "data": {
      "text/plain": "    group  cumulative_data_fraction  lower_threshold      lift  \\\n0       1                  0.012739     9.999996e-01  1.643979   \n1       2                  0.022293     9.999989e-01  1.643979   \n2       3                  0.031847     9.999987e-01  1.643979   \n3       4                  0.041401     9.999985e-01  1.643979   \n4       5                  0.054140     9.999983e-01  1.643979   \n5       6                  0.105096     9.999950e-01  1.643979   \n6       7                  0.152866     9.999881e-01  1.643979   \n7       8                  0.200637     9.999701e-01  1.643979   \n8       9                  0.302548     9.998672e-01  1.643979   \n9      10                  0.404459     9.992820e-01  1.643979   \n10     11                  0.506369     9.900495e-01  1.643979   \n11     12                  0.605096     7.398476e-01  1.431853   \n12     13                  0.707006     5.263454e-02  0.256872   \n13     14                  0.808917     4.061245e-06  0.000000   \n14     15                  0.907643     2.194594e-09  0.000000   \n15     16                  1.000000     3.192951e-17  0.000000   \n\n    cumulative_lift  response_rate         score  cumulative_response_rate  \\\n0          1.643979       1.000000  9.999997e-01                  1.000000   \n1          1.643979       1.000000  9.999991e-01                  1.000000   \n2          1.643979       1.000000  9.999987e-01                  1.000000   \n3          1.643979       1.000000  9.999987e-01                  1.000000   \n4          1.643979       1.000000  9.999984e-01                  1.000000   \n5          1.643979       1.000000  9.999969e-01                  1.000000   \n6          1.643979       1.000000  9.999922e-01                  1.000000   \n7          1.643979       1.000000  9.999790e-01                  1.000000   \n8          1.643979       1.000000  9.999325e-01                  1.000000   \n9          1.643979       1.000000  9.996377e-01                  1.000000   \n10         1.643979       1.000000  9.971849e-01                  1.000000   \n11         1.609369       0.870968  9.115993e-01                  0.978947   \n12         1.414414       0.156250  3.450105e-01                  0.860360   \n13         1.236220       0.000000  1.015321e-02                  0.751969   \n14         1.101754       0.000000  6.083824e-07                  0.670175   \n15         1.000000       0.000000  1.273163e-10                  0.608280   \n\n    cumulative_score  capture_rate  cumulative_capture_rate        gain  \\\n0           1.000000      0.020942                 0.020942   64.397906   \n1           0.999999      0.015707                 0.036649   64.397906   \n2           0.999999      0.015707                 0.052356   64.397906   \n3           0.999999      0.015707                 0.068063   64.397906   \n4           0.999999      0.020942                 0.089005   64.397906   \n5           0.999998      0.083770                 0.172775   64.397906   \n6           0.999996      0.078534                 0.251309   64.397906   \n7           0.999992      0.078534                 0.329843   64.397906   \n8           0.999972      0.167539                 0.497382   64.397906   \n9           0.999888      0.167539                 0.664921   64.397906   \n10          0.999344      0.167539                 0.832461   64.397906   \n11          0.985028      0.141361                 0.973822   43.185273   \n12          0.892773      0.026178                 1.000000  -74.312827   \n13          0.781577      0.000000                 1.000000 -100.000000   \n14          0.696563      0.000000                 1.000000 -100.000000   \n15          0.632231      0.000000                 1.000000 -100.000000   \n\n    cumulative_gain  kolmogorov_smirnov  \n0         64.397906            0.020942  \n1         64.397906            0.036649  \n2         64.397906            0.052356  \n3         64.397906            0.068063  \n4         64.397906            0.089005  \n5         64.397906            0.172775  \n6         64.397906            0.251309  \n7         64.397906            0.329843  \n8         64.397906            0.497382  \n9         64.397906            0.664921  \n10        64.397906            0.832461  \n11        60.936897            0.941302  \n12        41.441441            0.747967  \n13        23.622047            0.487805  \n14        10.175439            0.235772  \n15         0.000000            0.000000  ",
      "text/html": "<div>\n<style scoped>\n    .dataframe tbody tr th:only-of-type {\n        vertical-align: middle;\n    }\n\n    .dataframe tbody tr th {\n        vertical-align: top;\n    }\n\n    .dataframe thead th {\n        text-align: right;\n    }\n</style>\n<table border=\"1\" class=\"dataframe\">\n  <thead>\n    <tr style=\"text-align: right;\">\n      <th></th>\n      <th>group</th>\n      <th>cumulative_data_fraction</th>\n      <th>lower_threshold</th>\n      <th>lift</th>\n      <th>cumulative_lift</th>\n      <th>response_rate</th>\n      <th>score</th>\n      <th>cumulative_response_rate</th>\n      <th>cumulative_score</th>\n      <th>capture_rate</th>\n      <th>cumulative_capture_rate</th>\n      <th>gain</th>\n      <th>cumulative_gain</th>\n      <th>kolmogorov_smirnov</th>\n    </tr>\n  </thead>\n  <tbody>\n    <tr>\n      <th>0</th>\n      <td>1</td>\n      <td>0.012739</td>\n      <td>9.999996e-01</td>\n      <td>1.643979</td>\n      <td>1.643979</td>\n      <td>1.000000</td>\n      <td>9.999997e-01</td>\n      <td>1.000000</td>\n      <td>1.000000</td>\n      <td>0.020942</td>\n      <td>0.020942</td>\n      <td>64.397906</td>\n      <td>64.397906</td>\n      <td>0.020942</td>\n    </tr>\n    <tr>\n      <th>1</th>\n      <td>2</td>\n      <td>0.022293</td>\n      <td>9.999989e-01</td>\n      <td>1.643979</td>\n      <td>1.643979</td>\n      <td>1.000000</td>\n      <td>9.999991e-01</td>\n      <td>1.000000</td>\n      <td>0.999999</td>\n      <td>0.015707</td>\n      <td>0.036649</td>\n      <td>64.397906</td>\n      <td>64.397906</td>\n      <td>0.036649</td>\n    </tr>\n    <tr>\n      <th>2</th>\n      <td>3</td>\n      <td>0.031847</td>\n      <td>9.999987e-01</td>\n      <td>1.643979</td>\n      <td>1.643979</td>\n      <td>1.000000</td>\n      <td>9.999987e-01</td>\n      <td>1.000000</td>\n      <td>0.999999</td>\n      <td>0.015707</td>\n      <td>0.052356</td>\n      <td>64.397906</td>\n      <td>64.397906</td>\n      <td>0.052356</td>\n    </tr>\n    <tr>\n      <th>3</th>\n      <td>4</td>\n      <td>0.041401</td>\n      <td>9.999985e-01</td>\n      <td>1.643979</td>\n      <td>1.643979</td>\n      <td>1.000000</td>\n      <td>9.999987e-01</td>\n      <td>1.000000</td>\n      <td>0.999999</td>\n      <td>0.015707</td>\n      <td>0.068063</td>\n      <td>64.397906</td>\n      <td>64.397906</td>\n      <td>0.068063</td>\n    </tr>\n    <tr>\n      <th>4</th>\n      <td>5</td>\n      <td>0.054140</td>\n      <td>9.999983e-01</td>\n      <td>1.643979</td>\n      <td>1.643979</td>\n      <td>1.000000</td>\n      <td>9.999984e-01</td>\n      <td>1.000000</td>\n      <td>0.999999</td>\n      <td>0.020942</td>\n      <td>0.089005</td>\n      <td>64.397906</td>\n      <td>64.397906</td>\n      <td>0.089005</td>\n    </tr>\n    <tr>\n      <th>5</th>\n      <td>6</td>\n      <td>0.105096</td>\n      <td>9.999950e-01</td>\n      <td>1.643979</td>\n      <td>1.643979</td>\n      <td>1.000000</td>\n      <td>9.999969e-01</td>\n      <td>1.000000</td>\n      <td>0.999998</td>\n      <td>0.083770</td>\n      <td>0.172775</td>\n      <td>64.397906</td>\n      <td>64.397906</td>\n      <td>0.172775</td>\n    </tr>\n    <tr>\n      <th>6</th>\n      <td>7</td>\n      <td>0.152866</td>\n      <td>9.999881e-01</td>\n      <td>1.643979</td>\n      <td>1.643979</td>\n      <td>1.000000</td>\n      <td>9.999922e-01</td>\n      <td>1.000000</td>\n      <td>0.999996</td>\n      <td>0.078534</td>\n      <td>0.251309</td>\n      <td>64.397906</td>\n      <td>64.397906</td>\n      <td>0.251309</td>\n    </tr>\n    <tr>\n      <th>7</th>\n      <td>8</td>\n      <td>0.200637</td>\n      <td>9.999701e-01</td>\n      <td>1.643979</td>\n      <td>1.643979</td>\n      <td>1.000000</td>\n      <td>9.999790e-01</td>\n      <td>1.000000</td>\n      <td>0.999992</td>\n      <td>0.078534</td>\n      <td>0.329843</td>\n      <td>64.397906</td>\n      <td>64.397906</td>\n      <td>0.329843</td>\n    </tr>\n    <tr>\n      <th>8</th>\n      <td>9</td>\n      <td>0.302548</td>\n      <td>9.998672e-01</td>\n      <td>1.643979</td>\n      <td>1.643979</td>\n      <td>1.000000</td>\n      <td>9.999325e-01</td>\n      <td>1.000000</td>\n      <td>0.999972</td>\n      <td>0.167539</td>\n      <td>0.497382</td>\n      <td>64.397906</td>\n      <td>64.397906</td>\n      <td>0.497382</td>\n    </tr>\n    <tr>\n      <th>9</th>\n      <td>10</td>\n      <td>0.404459</td>\n      <td>9.992820e-01</td>\n      <td>1.643979</td>\n      <td>1.643979</td>\n      <td>1.000000</td>\n      <td>9.996377e-01</td>\n      <td>1.000000</td>\n      <td>0.999888</td>\n      <td>0.167539</td>\n      <td>0.664921</td>\n      <td>64.397906</td>\n      <td>64.397906</td>\n      <td>0.664921</td>\n    </tr>\n    <tr>\n      <th>10</th>\n      <td>11</td>\n      <td>0.506369</td>\n      <td>9.900495e-01</td>\n      <td>1.643979</td>\n      <td>1.643979</td>\n      <td>1.000000</td>\n      <td>9.971849e-01</td>\n      <td>1.000000</td>\n      <td>0.999344</td>\n      <td>0.167539</td>\n      <td>0.832461</td>\n      <td>64.397906</td>\n      <td>64.397906</td>\n      <td>0.832461</td>\n    </tr>\n    <tr>\n      <th>11</th>\n      <td>12</td>\n      <td>0.605096</td>\n      <td>7.398476e-01</td>\n      <td>1.431853</td>\n      <td>1.609369</td>\n      <td>0.870968</td>\n      <td>9.115993e-01</td>\n      <td>0.978947</td>\n      <td>0.985028</td>\n      <td>0.141361</td>\n      <td>0.973822</td>\n      <td>43.185273</td>\n      <td>60.936897</td>\n      <td>0.941302</td>\n    </tr>\n    <tr>\n      <th>12</th>\n      <td>13</td>\n      <td>0.707006</td>\n      <td>5.263454e-02</td>\n      <td>0.256872</td>\n      <td>1.414414</td>\n      <td>0.156250</td>\n      <td>3.450105e-01</td>\n      <td>0.860360</td>\n      <td>0.892773</td>\n      <td>0.026178</td>\n      <td>1.000000</td>\n      <td>-74.312827</td>\n      <td>41.441441</td>\n      <td>0.747967</td>\n    </tr>\n    <tr>\n      <th>13</th>\n      <td>14</td>\n      <td>0.808917</td>\n      <td>4.061245e-06</td>\n      <td>0.000000</td>\n      <td>1.236220</td>\n      <td>0.000000</td>\n      <td>1.015321e-02</td>\n      <td>0.751969</td>\n      <td>0.781577</td>\n      <td>0.000000</td>\n      <td>1.000000</td>\n      <td>-100.000000</td>\n      <td>23.622047</td>\n      <td>0.487805</td>\n    </tr>\n    <tr>\n      <th>14</th>\n      <td>15</td>\n      <td>0.907643</td>\n      <td>2.194594e-09</td>\n      <td>0.000000</td>\n      <td>1.101754</td>\n      <td>0.000000</td>\n      <td>6.083824e-07</td>\n      <td>0.670175</td>\n      <td>0.696563</td>\n      <td>0.000000</td>\n      <td>1.000000</td>\n      <td>-100.000000</td>\n      <td>10.175439</td>\n      <td>0.235772</td>\n    </tr>\n    <tr>\n      <th>15</th>\n      <td>16</td>\n      <td>1.000000</td>\n      <td>3.192951e-17</td>\n      <td>0.000000</td>\n      <td>1.000000</td>\n      <td>0.000000</td>\n      <td>1.273163e-10</td>\n      <td>0.608280</td>\n      <td>0.632231</td>\n      <td>0.000000</td>\n      <td>1.000000</td>\n      <td>-100.000000</td>\n      <td>0.000000</td>\n      <td>0.000000</td>\n    </tr>\n  </tbody>\n</table>\n</div>"
     },
     "metadata": {},
     "output_type": "display_data"
    },
    {
     "name": "stdout",
     "output_type": "stream",
     "text": [
      "\n",
      "\n",
      "ModelMetricsBinomial: deeplearning\n",
      "** Reported on cross-validation data. **\n",
      "\n",
      "MSE: 0.059245209692248245\n",
      "RMSE: 0.2434033888265491\n",
      "LogLoss: 0.19529719455096248\n",
      "Mean Per-Class Error: 0.08102413484867832\n",
      "AUC: 0.9775252202783807\n",
      "AUCPR: 0.9849677351870931\n",
      "Gini: 0.9550504405567615\n",
      "\n",
      "Confusion Matrix (Act/Pred) for max f1 @ threshold = 0.20346925764550555: \n"
     ]
    },
    {
     "data": {
      "text/plain": "              0      1   Error           Rate\n0      0  105.0   18.0  0.1463   (18.0/123.0)\n1      1    3.0  188.0  0.0157    (3.0/191.0)\n2  Total  108.0  206.0  0.0669   (21.0/314.0)",
      "text/html": "<div>\n<style scoped>\n    .dataframe tbody tr th:only-of-type {\n        vertical-align: middle;\n    }\n\n    .dataframe tbody tr th {\n        vertical-align: top;\n    }\n\n    .dataframe thead th {\n        text-align: right;\n    }\n</style>\n<table border=\"1\" class=\"dataframe\">\n  <thead>\n    <tr style=\"text-align: right;\">\n      <th></th>\n      <th></th>\n      <th>0</th>\n      <th>1</th>\n      <th>Error</th>\n      <th>Rate</th>\n    </tr>\n  </thead>\n  <tbody>\n    <tr>\n      <th>0</th>\n      <td>0</td>\n      <td>105.0</td>\n      <td>18.0</td>\n      <td>0.1463</td>\n      <td>(18.0/123.0)</td>\n    </tr>\n    <tr>\n      <th>1</th>\n      <td>1</td>\n      <td>3.0</td>\n      <td>188.0</td>\n      <td>0.0157</td>\n      <td>(3.0/191.0)</td>\n    </tr>\n    <tr>\n      <th>2</th>\n      <td>Total</td>\n      <td>108.0</td>\n      <td>206.0</td>\n      <td>0.0669</td>\n      <td>(21.0/314.0)</td>\n    </tr>\n  </tbody>\n</table>\n</div>"
     },
     "metadata": {},
     "output_type": "display_data"
    },
    {
     "name": "stdout",
     "output_type": "stream",
     "text": [
      "\n",
      "Maximum Metrics: Maximum metrics at their respective thresholds\n"
     ]
    },
    {
     "data": {
      "text/plain": "                         metric     threshold       value    idx\n0                        max f1  2.034693e-01    0.947103  194.0\n1                        max f2  1.836611e-01    0.971223  197.0\n2                  max f0point5  5.945430e-01    0.942492  175.0\n3                  max accuracy  2.034693e-01    0.933121  194.0\n4                 max precision  1.000000e+00    1.000000    0.0\n5                    max recall  1.277875e-02    1.000000  229.0\n6               max specificity  1.000000e+00    1.000000    0.0\n7              max absolute_mcc  2.034693e-01    0.861079  194.0\n8    max min_per_class_accuracy  5.987975e-01    0.918699  174.0\n9   max mean_per_class_accuracy  5.945430e-01    0.922700  175.0\n10                      max tns  1.000000e+00  123.000000    0.0\n11                      max fns  1.000000e+00  182.000000    0.0\n12                      max fps  9.321473e-29  123.000000  302.0\n13                      max tps  1.277875e-02  191.000000  229.0\n14                      max tnr  1.000000e+00    1.000000    0.0\n15                      max fnr  1.000000e+00    0.952880    0.0\n16                      max fpr  9.321473e-29    1.000000  302.0\n17                      max tpr  1.277875e-02    1.000000  229.0",
      "text/html": "<div>\n<style scoped>\n    .dataframe tbody tr th:only-of-type {\n        vertical-align: middle;\n    }\n\n    .dataframe tbody tr th {\n        vertical-align: top;\n    }\n\n    .dataframe thead th {\n        text-align: right;\n    }\n</style>\n<table border=\"1\" class=\"dataframe\">\n  <thead>\n    <tr style=\"text-align: right;\">\n      <th></th>\n      <th>metric</th>\n      <th>threshold</th>\n      <th>value</th>\n      <th>idx</th>\n    </tr>\n  </thead>\n  <tbody>\n    <tr>\n      <th>0</th>\n      <td>max f1</td>\n      <td>2.034693e-01</td>\n      <td>0.947103</td>\n      <td>194.0</td>\n    </tr>\n    <tr>\n      <th>1</th>\n      <td>max f2</td>\n      <td>1.836611e-01</td>\n      <td>0.971223</td>\n      <td>197.0</td>\n    </tr>\n    <tr>\n      <th>2</th>\n      <td>max f0point5</td>\n      <td>5.945430e-01</td>\n      <td>0.942492</td>\n      <td>175.0</td>\n    </tr>\n    <tr>\n      <th>3</th>\n      <td>max accuracy</td>\n      <td>2.034693e-01</td>\n      <td>0.933121</td>\n      <td>194.0</td>\n    </tr>\n    <tr>\n      <th>4</th>\n      <td>max precision</td>\n      <td>1.000000e+00</td>\n      <td>1.000000</td>\n      <td>0.0</td>\n    </tr>\n    <tr>\n      <th>5</th>\n      <td>max recall</td>\n      <td>1.277875e-02</td>\n      <td>1.000000</td>\n      <td>229.0</td>\n    </tr>\n    <tr>\n      <th>6</th>\n      <td>max specificity</td>\n      <td>1.000000e+00</td>\n      <td>1.000000</td>\n      <td>0.0</td>\n    </tr>\n    <tr>\n      <th>7</th>\n      <td>max absolute_mcc</td>\n      <td>2.034693e-01</td>\n      <td>0.861079</td>\n      <td>194.0</td>\n    </tr>\n    <tr>\n      <th>8</th>\n      <td>max min_per_class_accuracy</td>\n      <td>5.987975e-01</td>\n      <td>0.918699</td>\n      <td>174.0</td>\n    </tr>\n    <tr>\n      <th>9</th>\n      <td>max mean_per_class_accuracy</td>\n      <td>5.945430e-01</td>\n      <td>0.922700</td>\n      <td>175.0</td>\n    </tr>\n    <tr>\n      <th>10</th>\n      <td>max tns</td>\n      <td>1.000000e+00</td>\n      <td>123.000000</td>\n      <td>0.0</td>\n    </tr>\n    <tr>\n      <th>11</th>\n      <td>max fns</td>\n      <td>1.000000e+00</td>\n      <td>182.000000</td>\n      <td>0.0</td>\n    </tr>\n    <tr>\n      <th>12</th>\n      <td>max fps</td>\n      <td>9.321473e-29</td>\n      <td>123.000000</td>\n      <td>302.0</td>\n    </tr>\n    <tr>\n      <th>13</th>\n      <td>max tps</td>\n      <td>1.277875e-02</td>\n      <td>191.000000</td>\n      <td>229.0</td>\n    </tr>\n    <tr>\n      <th>14</th>\n      <td>max tnr</td>\n      <td>1.000000e+00</td>\n      <td>1.000000</td>\n      <td>0.0</td>\n    </tr>\n    <tr>\n      <th>15</th>\n      <td>max fnr</td>\n      <td>1.000000e+00</td>\n      <td>0.952880</td>\n      <td>0.0</td>\n    </tr>\n    <tr>\n      <th>16</th>\n      <td>max fpr</td>\n      <td>9.321473e-29</td>\n      <td>1.000000</td>\n      <td>302.0</td>\n    </tr>\n    <tr>\n      <th>17</th>\n      <td>max tpr</td>\n      <td>1.277875e-02</td>\n      <td>1.000000</td>\n      <td>229.0</td>\n    </tr>\n  </tbody>\n</table>\n</div>"
     },
     "metadata": {},
     "output_type": "display_data"
    },
    {
     "name": "stdout",
     "output_type": "stream",
     "text": [
      "\n",
      "Gains/Lift Table: Avg response rate: 60.83 %, avg score: 60.02 %\n"
     ]
    },
    {
     "data": {
      "text/plain": "    group  cumulative_data_fraction  lower_threshold      lift  \\\n0       1                  0.019108         1.000000  1.643979   \n1       2                  0.022293         1.000000  1.643979   \n2       3                  0.031847         1.000000  1.643979   \n3       4                  0.041401         1.000000  1.643979   \n4       5                  0.054140         0.999999  1.643979   \n5       6                  0.105096         0.999844  1.643979   \n6       7                  0.152866         0.999522  1.643979   \n7       8                  0.203822         0.997997  1.643979   \n8       9                  0.305732         0.994075  1.643979   \n9      10                  0.404459         0.977055  1.590947   \n10     11                  0.506369         0.919914  1.489856   \n11     12                  0.605096         0.471821  1.219726   \n12     13                  0.707006         0.099911  0.565118   \n13     14                  0.805732         0.001825  0.106063   \n14     15                  0.901274         0.000024  0.000000   \n15     16                  1.000000         0.000000  0.000000   \n\n    cumulative_lift  response_rate     score  cumulative_response_rate  \\\n0          1.643979       1.000000  1.000000                  1.000000   \n1          1.643979       1.000000  1.000000                  1.000000   \n2          1.643979       1.000000  1.000000                  1.000000   \n3          1.643979       1.000000  1.000000                  1.000000   \n4          1.643979       1.000000  0.999999                  1.000000   \n5          1.643979       1.000000  0.999958                  1.000000   \n6          1.643979       1.000000  0.999683                  1.000000   \n7          1.643979       1.000000  0.998714                  1.000000   \n8          1.643979       1.000000  0.996337                  1.000000   \n9          1.631034       0.967742  0.986361                  0.992126   \n10         1.602621       0.906250  0.952443                  0.974843   \n11         1.540149       0.741935  0.761264                  0.936842   \n12         1.399604       0.343750  0.221161                  0.851351   \n13         1.241107       0.064516  0.027823                  0.754941   \n14         1.109541       0.000000  0.000428                  0.674912   \n15         1.000000       0.000000  0.000002                  0.608280   \n\n    cumulative_score  capture_rate  cumulative_capture_rate        gain  \\\n0           1.000000      0.031414                 0.031414   64.397906   \n1           1.000000      0.005236                 0.036649   64.397906   \n2           1.000000      0.015707                 0.052356   64.397906   \n3           1.000000      0.015707                 0.068063   64.397906   \n4           1.000000      0.020942                 0.089005   64.397906   \n5           0.999980      0.083770                 0.172775   64.397906   \n6           0.999887      0.078534                 0.251309   64.397906   \n7           0.999594      0.083770                 0.335079   64.397906   \n8           0.998508      0.167539                 0.502618   64.397906   \n9           0.995543      0.157068                 0.659686   59.094748   \n10          0.986869      0.151832                 0.811518   48.985602   \n11          0.950060      0.120419                 0.931937   21.972640   \n12          0.844993      0.057592                 0.989529  -43.488220   \n13          0.744866      0.010471                 1.000000  -89.393683   \n14          0.665950      0.000000                 1.000000 -100.000000   \n15          0.600203      0.000000                 1.000000 -100.000000   \n\n    cumulative_gain  kolmogorov_smirnov  \n0         64.397906            0.031414  \n1         64.397906            0.036649  \n2         64.397906            0.052356  \n3         64.397906            0.068063  \n4         64.397906            0.089005  \n5         64.397906            0.172775  \n6         64.397906            0.251309  \n7         64.397906            0.335079  \n8         64.397906            0.502618  \n9         63.103434            0.651556  \n10        60.262109            0.778998  \n11        54.014880            0.834376  \n12        39.960379            0.721236  \n13        24.110672            0.495935  \n14        10.954064            0.252033  \n15         0.000000            0.000000  ",
      "text/html": "<div>\n<style scoped>\n    .dataframe tbody tr th:only-of-type {\n        vertical-align: middle;\n    }\n\n    .dataframe tbody tr th {\n        vertical-align: top;\n    }\n\n    .dataframe thead th {\n        text-align: right;\n    }\n</style>\n<table border=\"1\" class=\"dataframe\">\n  <thead>\n    <tr style=\"text-align: right;\">\n      <th></th>\n      <th>group</th>\n      <th>cumulative_data_fraction</th>\n      <th>lower_threshold</th>\n      <th>lift</th>\n      <th>cumulative_lift</th>\n      <th>response_rate</th>\n      <th>score</th>\n      <th>cumulative_response_rate</th>\n      <th>cumulative_score</th>\n      <th>capture_rate</th>\n      <th>cumulative_capture_rate</th>\n      <th>gain</th>\n      <th>cumulative_gain</th>\n      <th>kolmogorov_smirnov</th>\n    </tr>\n  </thead>\n  <tbody>\n    <tr>\n      <th>0</th>\n      <td>1</td>\n      <td>0.019108</td>\n      <td>1.000000</td>\n      <td>1.643979</td>\n      <td>1.643979</td>\n      <td>1.000000</td>\n      <td>1.000000</td>\n      <td>1.000000</td>\n      <td>1.000000</td>\n      <td>0.031414</td>\n      <td>0.031414</td>\n      <td>64.397906</td>\n      <td>64.397906</td>\n      <td>0.031414</td>\n    </tr>\n    <tr>\n      <th>1</th>\n      <td>2</td>\n      <td>0.022293</td>\n      <td>1.000000</td>\n      <td>1.643979</td>\n      <td>1.643979</td>\n      <td>1.000000</td>\n      <td>1.000000</td>\n      <td>1.000000</td>\n      <td>1.000000</td>\n      <td>0.005236</td>\n      <td>0.036649</td>\n      <td>64.397906</td>\n      <td>64.397906</td>\n      <td>0.036649</td>\n    </tr>\n    <tr>\n      <th>2</th>\n      <td>3</td>\n      <td>0.031847</td>\n      <td>1.000000</td>\n      <td>1.643979</td>\n      <td>1.643979</td>\n      <td>1.000000</td>\n      <td>1.000000</td>\n      <td>1.000000</td>\n      <td>1.000000</td>\n      <td>0.015707</td>\n      <td>0.052356</td>\n      <td>64.397906</td>\n      <td>64.397906</td>\n      <td>0.052356</td>\n    </tr>\n    <tr>\n      <th>3</th>\n      <td>4</td>\n      <td>0.041401</td>\n      <td>1.000000</td>\n      <td>1.643979</td>\n      <td>1.643979</td>\n      <td>1.000000</td>\n      <td>1.000000</td>\n      <td>1.000000</td>\n      <td>1.000000</td>\n      <td>0.015707</td>\n      <td>0.068063</td>\n      <td>64.397906</td>\n      <td>64.397906</td>\n      <td>0.068063</td>\n    </tr>\n    <tr>\n      <th>4</th>\n      <td>5</td>\n      <td>0.054140</td>\n      <td>0.999999</td>\n      <td>1.643979</td>\n      <td>1.643979</td>\n      <td>1.000000</td>\n      <td>0.999999</td>\n      <td>1.000000</td>\n      <td>1.000000</td>\n      <td>0.020942</td>\n      <td>0.089005</td>\n      <td>64.397906</td>\n      <td>64.397906</td>\n      <td>0.089005</td>\n    </tr>\n    <tr>\n      <th>5</th>\n      <td>6</td>\n      <td>0.105096</td>\n      <td>0.999844</td>\n      <td>1.643979</td>\n      <td>1.643979</td>\n      <td>1.000000</td>\n      <td>0.999958</td>\n      <td>1.000000</td>\n      <td>0.999980</td>\n      <td>0.083770</td>\n      <td>0.172775</td>\n      <td>64.397906</td>\n      <td>64.397906</td>\n      <td>0.172775</td>\n    </tr>\n    <tr>\n      <th>6</th>\n      <td>7</td>\n      <td>0.152866</td>\n      <td>0.999522</td>\n      <td>1.643979</td>\n      <td>1.643979</td>\n      <td>1.000000</td>\n      <td>0.999683</td>\n      <td>1.000000</td>\n      <td>0.999887</td>\n      <td>0.078534</td>\n      <td>0.251309</td>\n      <td>64.397906</td>\n      <td>64.397906</td>\n      <td>0.251309</td>\n    </tr>\n    <tr>\n      <th>7</th>\n      <td>8</td>\n      <td>0.203822</td>\n      <td>0.997997</td>\n      <td>1.643979</td>\n      <td>1.643979</td>\n      <td>1.000000</td>\n      <td>0.998714</td>\n      <td>1.000000</td>\n      <td>0.999594</td>\n      <td>0.083770</td>\n      <td>0.335079</td>\n      <td>64.397906</td>\n      <td>64.397906</td>\n      <td>0.335079</td>\n    </tr>\n    <tr>\n      <th>8</th>\n      <td>9</td>\n      <td>0.305732</td>\n      <td>0.994075</td>\n      <td>1.643979</td>\n      <td>1.643979</td>\n      <td>1.000000</td>\n      <td>0.996337</td>\n      <td>1.000000</td>\n      <td>0.998508</td>\n      <td>0.167539</td>\n      <td>0.502618</td>\n      <td>64.397906</td>\n      <td>64.397906</td>\n      <td>0.502618</td>\n    </tr>\n    <tr>\n      <th>9</th>\n      <td>10</td>\n      <td>0.404459</td>\n      <td>0.977055</td>\n      <td>1.590947</td>\n      <td>1.631034</td>\n      <td>0.967742</td>\n      <td>0.986361</td>\n      <td>0.992126</td>\n      <td>0.995543</td>\n      <td>0.157068</td>\n      <td>0.659686</td>\n      <td>59.094748</td>\n      <td>63.103434</td>\n      <td>0.651556</td>\n    </tr>\n    <tr>\n      <th>10</th>\n      <td>11</td>\n      <td>0.506369</td>\n      <td>0.919914</td>\n      <td>1.489856</td>\n      <td>1.602621</td>\n      <td>0.906250</td>\n      <td>0.952443</td>\n      <td>0.974843</td>\n      <td>0.986869</td>\n      <td>0.151832</td>\n      <td>0.811518</td>\n      <td>48.985602</td>\n      <td>60.262109</td>\n      <td>0.778998</td>\n    </tr>\n    <tr>\n      <th>11</th>\n      <td>12</td>\n      <td>0.605096</td>\n      <td>0.471821</td>\n      <td>1.219726</td>\n      <td>1.540149</td>\n      <td>0.741935</td>\n      <td>0.761264</td>\n      <td>0.936842</td>\n      <td>0.950060</td>\n      <td>0.120419</td>\n      <td>0.931937</td>\n      <td>21.972640</td>\n      <td>54.014880</td>\n      <td>0.834376</td>\n    </tr>\n    <tr>\n      <th>12</th>\n      <td>13</td>\n      <td>0.707006</td>\n      <td>0.099911</td>\n      <td>0.565118</td>\n      <td>1.399604</td>\n      <td>0.343750</td>\n      <td>0.221161</td>\n      <td>0.851351</td>\n      <td>0.844993</td>\n      <td>0.057592</td>\n      <td>0.989529</td>\n      <td>-43.488220</td>\n      <td>39.960379</td>\n      <td>0.721236</td>\n    </tr>\n    <tr>\n      <th>13</th>\n      <td>14</td>\n      <td>0.805732</td>\n      <td>0.001825</td>\n      <td>0.106063</td>\n      <td>1.241107</td>\n      <td>0.064516</td>\n      <td>0.027823</td>\n      <td>0.754941</td>\n      <td>0.744866</td>\n      <td>0.010471</td>\n      <td>1.000000</td>\n      <td>-89.393683</td>\n      <td>24.110672</td>\n      <td>0.495935</td>\n    </tr>\n    <tr>\n      <th>14</th>\n      <td>15</td>\n      <td>0.901274</td>\n      <td>0.000024</td>\n      <td>0.000000</td>\n      <td>1.109541</td>\n      <td>0.000000</td>\n      <td>0.000428</td>\n      <td>0.674912</td>\n      <td>0.665950</td>\n      <td>0.000000</td>\n      <td>1.000000</td>\n      <td>-100.000000</td>\n      <td>10.954064</td>\n      <td>0.252033</td>\n    </tr>\n    <tr>\n      <th>15</th>\n      <td>16</td>\n      <td>1.000000</td>\n      <td>0.000000</td>\n      <td>0.000000</td>\n      <td>1.000000</td>\n      <td>0.000000</td>\n      <td>0.000002</td>\n      <td>0.608280</td>\n      <td>0.600203</td>\n      <td>0.000000</td>\n      <td>1.000000</td>\n      <td>-100.000000</td>\n      <td>0.000000</td>\n      <td>0.000000</td>\n    </tr>\n  </tbody>\n</table>\n</div>"
     },
     "metadata": {},
     "output_type": "display_data"
    },
    {
     "name": "stdout",
     "output_type": "stream",
     "text": [
      "\n",
      "\n",
      "Cross-Validation Metrics Summary: \n"
     ]
    },
    {
     "data": {
      "text/plain": "                                 mean        sd  cv_1_valid  cv_2_valid  \\\n0                  accuracy  0.946025  0.030953    0.920635    1.000000   \n1                       auc  0.977502  0.016288    0.955128    1.000000   \n2                       err  0.053975  0.030953    0.079365    0.000000   \n3                 err_count  3.400000  1.949359    5.000000    0.000000   \n4                  f0point5  0.942339  0.032871    0.917874    1.000000   \n5                        f1  0.956560  0.025866    0.938272    1.000000   \n6                        f2  0.971535  0.024716    0.959596    1.000000   \n7            lift_top_group  1.663204  0.201539    1.615385    1.675676   \n8                   logloss  0.194945  0.086757    0.283874    0.051422   \n9       max_per_class_error  0.120695  0.084324    0.166667    0.000000   \n10                      mcc  0.885403  0.065740    0.832050    1.000000   \n11  mean_per_class_accuracy  0.930637  0.040885    0.903846    1.000000   \n12     mean_per_class_error  0.069363  0.040885    0.096154    0.000000   \n13                      mse  0.059076  0.027056    0.077848    0.011351   \n14                   pr_auc  0.985856  0.010241    0.971100    1.000000   \n15                precision  0.933250  0.039049    0.904762    1.000000   \n16                       r2  0.746481  0.118210    0.669893    0.952830   \n17                   recall  0.981969  0.028258    0.974359    1.000000   \n18                     rmse  0.234380  0.071955    0.279013    0.106540   \n19              specificity  0.879305  0.084324    0.833333    1.000000   \n\n    cv_3_valid  cv_4_valid  cv_5_valid  \n0     0.935484    0.937500    0.936508  \n1     0.983351    0.973422    0.975610  \n2     0.064516    0.062500    0.063492  \n3     4.000000    4.000000    4.000000  \n4     0.935484    0.930736    0.927602  \n5     0.935484    0.955556    0.953488  \n6     0.935484    0.981735    0.980861  \n7     2.000000    1.488372    1.536585  \n8     0.232902    0.200026    0.206500  \n9     0.064516    0.190476    0.181818  \n10    0.870968    0.860598    0.863397  \n11    0.935484    0.904762    0.909091  \n12    0.064516    0.095238    0.090909  \n13    0.066788    0.072248    0.067143  \n14    0.985024    0.986678    0.986476  \n15    0.935484    0.914894    0.911111  \n16    0.732847    0.672283    0.704554  \n17    0.935484    1.000000    1.000000  \n18    0.258434    0.268790    0.259121  \n19    0.935484    0.809524    0.818182  ",
      "text/html": "<div>\n<style scoped>\n    .dataframe tbody tr th:only-of-type {\n        vertical-align: middle;\n    }\n\n    .dataframe tbody tr th {\n        vertical-align: top;\n    }\n\n    .dataframe thead th {\n        text-align: right;\n    }\n</style>\n<table border=\"1\" class=\"dataframe\">\n  <thead>\n    <tr style=\"text-align: right;\">\n      <th></th>\n      <th></th>\n      <th>mean</th>\n      <th>sd</th>\n      <th>cv_1_valid</th>\n      <th>cv_2_valid</th>\n      <th>cv_3_valid</th>\n      <th>cv_4_valid</th>\n      <th>cv_5_valid</th>\n    </tr>\n  </thead>\n  <tbody>\n    <tr>\n      <th>0</th>\n      <td>accuracy</td>\n      <td>0.946025</td>\n      <td>0.030953</td>\n      <td>0.920635</td>\n      <td>1.000000</td>\n      <td>0.935484</td>\n      <td>0.937500</td>\n      <td>0.936508</td>\n    </tr>\n    <tr>\n      <th>1</th>\n      <td>auc</td>\n      <td>0.977502</td>\n      <td>0.016288</td>\n      <td>0.955128</td>\n      <td>1.000000</td>\n      <td>0.983351</td>\n      <td>0.973422</td>\n      <td>0.975610</td>\n    </tr>\n    <tr>\n      <th>2</th>\n      <td>err</td>\n      <td>0.053975</td>\n      <td>0.030953</td>\n      <td>0.079365</td>\n      <td>0.000000</td>\n      <td>0.064516</td>\n      <td>0.062500</td>\n      <td>0.063492</td>\n    </tr>\n    <tr>\n      <th>3</th>\n      <td>err_count</td>\n      <td>3.400000</td>\n      <td>1.949359</td>\n      <td>5.000000</td>\n      <td>0.000000</td>\n      <td>4.000000</td>\n      <td>4.000000</td>\n      <td>4.000000</td>\n    </tr>\n    <tr>\n      <th>4</th>\n      <td>f0point5</td>\n      <td>0.942339</td>\n      <td>0.032871</td>\n      <td>0.917874</td>\n      <td>1.000000</td>\n      <td>0.935484</td>\n      <td>0.930736</td>\n      <td>0.927602</td>\n    </tr>\n    <tr>\n      <th>5</th>\n      <td>f1</td>\n      <td>0.956560</td>\n      <td>0.025866</td>\n      <td>0.938272</td>\n      <td>1.000000</td>\n      <td>0.935484</td>\n      <td>0.955556</td>\n      <td>0.953488</td>\n    </tr>\n    <tr>\n      <th>6</th>\n      <td>f2</td>\n      <td>0.971535</td>\n      <td>0.024716</td>\n      <td>0.959596</td>\n      <td>1.000000</td>\n      <td>0.935484</td>\n      <td>0.981735</td>\n      <td>0.980861</td>\n    </tr>\n    <tr>\n      <th>7</th>\n      <td>lift_top_group</td>\n      <td>1.663204</td>\n      <td>0.201539</td>\n      <td>1.615385</td>\n      <td>1.675676</td>\n      <td>2.000000</td>\n      <td>1.488372</td>\n      <td>1.536585</td>\n    </tr>\n    <tr>\n      <th>8</th>\n      <td>logloss</td>\n      <td>0.194945</td>\n      <td>0.086757</td>\n      <td>0.283874</td>\n      <td>0.051422</td>\n      <td>0.232902</td>\n      <td>0.200026</td>\n      <td>0.206500</td>\n    </tr>\n    <tr>\n      <th>9</th>\n      <td>max_per_class_error</td>\n      <td>0.120695</td>\n      <td>0.084324</td>\n      <td>0.166667</td>\n      <td>0.000000</td>\n      <td>0.064516</td>\n      <td>0.190476</td>\n      <td>0.181818</td>\n    </tr>\n    <tr>\n      <th>10</th>\n      <td>mcc</td>\n      <td>0.885403</td>\n      <td>0.065740</td>\n      <td>0.832050</td>\n      <td>1.000000</td>\n      <td>0.870968</td>\n      <td>0.860598</td>\n      <td>0.863397</td>\n    </tr>\n    <tr>\n      <th>11</th>\n      <td>mean_per_class_accuracy</td>\n      <td>0.930637</td>\n      <td>0.040885</td>\n      <td>0.903846</td>\n      <td>1.000000</td>\n      <td>0.935484</td>\n      <td>0.904762</td>\n      <td>0.909091</td>\n    </tr>\n    <tr>\n      <th>12</th>\n      <td>mean_per_class_error</td>\n      <td>0.069363</td>\n      <td>0.040885</td>\n      <td>0.096154</td>\n      <td>0.000000</td>\n      <td>0.064516</td>\n      <td>0.095238</td>\n      <td>0.090909</td>\n    </tr>\n    <tr>\n      <th>13</th>\n      <td>mse</td>\n      <td>0.059076</td>\n      <td>0.027056</td>\n      <td>0.077848</td>\n      <td>0.011351</td>\n      <td>0.066788</td>\n      <td>0.072248</td>\n      <td>0.067143</td>\n    </tr>\n    <tr>\n      <th>14</th>\n      <td>pr_auc</td>\n      <td>0.985856</td>\n      <td>0.010241</td>\n      <td>0.971100</td>\n      <td>1.000000</td>\n      <td>0.985024</td>\n      <td>0.986678</td>\n      <td>0.986476</td>\n    </tr>\n    <tr>\n      <th>15</th>\n      <td>precision</td>\n      <td>0.933250</td>\n      <td>0.039049</td>\n      <td>0.904762</td>\n      <td>1.000000</td>\n      <td>0.935484</td>\n      <td>0.914894</td>\n      <td>0.911111</td>\n    </tr>\n    <tr>\n      <th>16</th>\n      <td>r2</td>\n      <td>0.746481</td>\n      <td>0.118210</td>\n      <td>0.669893</td>\n      <td>0.952830</td>\n      <td>0.732847</td>\n      <td>0.672283</td>\n      <td>0.704554</td>\n    </tr>\n    <tr>\n      <th>17</th>\n      <td>recall</td>\n      <td>0.981969</td>\n      <td>0.028258</td>\n      <td>0.974359</td>\n      <td>1.000000</td>\n      <td>0.935484</td>\n      <td>1.000000</td>\n      <td>1.000000</td>\n    </tr>\n    <tr>\n      <th>18</th>\n      <td>rmse</td>\n      <td>0.234380</td>\n      <td>0.071955</td>\n      <td>0.279013</td>\n      <td>0.106540</td>\n      <td>0.258434</td>\n      <td>0.268790</td>\n      <td>0.259121</td>\n    </tr>\n    <tr>\n      <th>19</th>\n      <td>specificity</td>\n      <td>0.879305</td>\n      <td>0.084324</td>\n      <td>0.833333</td>\n      <td>1.000000</td>\n      <td>0.935484</td>\n      <td>0.809524</td>\n      <td>0.818182</td>\n    </tr>\n  </tbody>\n</table>\n</div>"
     },
     "metadata": {},
     "output_type": "display_data"
    },
    {
     "name": "stdout",
     "output_type": "stream",
     "text": [
      "\n",
      "Scoring History: \n"
     ]
    },
    {
     "data": {
      "text/plain": "               timestamp    duration  training_speed        epochs  \\\n0    2022-06-14 02:10:23   0.000 sec            None      0.000000   \n1    2022-06-14 02:10:23  17.627 sec  209333 obs/sec      9.781931   \n2    2022-06-14 02:10:28  22.633 sec  568631 obs/sec   8881.993769   \n3    2022-06-14 02:10:28  23.269 sec  569441 obs/sec  10006.915888   \n\n   iterations    samples  training_rmse  training_logloss  training_r2  \\\n0           0        0.0            NaN               NaN          NaN   \n1           1     3140.0       0.243848          0.191655     0.750449   \n2         908  2851120.0       0.161416          0.081851     0.890651   \n3        1023  3212220.0       0.156150          0.075109     0.897670   \n\n   training_auc  training_pr_auc  training_lift  training_classification_error  \n0           NaN              NaN            NaN                            NaN  \n1      0.977695         0.985155       1.643979                       0.070064  \n2      0.997787         0.998627       1.643979                       0.019108  \n3      0.997787         0.998617       1.643979                       0.025478  ",
      "text/html": "<div>\n<style scoped>\n    .dataframe tbody tr th:only-of-type {\n        vertical-align: middle;\n    }\n\n    .dataframe tbody tr th {\n        vertical-align: top;\n    }\n\n    .dataframe thead th {\n        text-align: right;\n    }\n</style>\n<table border=\"1\" class=\"dataframe\">\n  <thead>\n    <tr style=\"text-align: right;\">\n      <th></th>\n      <th></th>\n      <th>timestamp</th>\n      <th>duration</th>\n      <th>training_speed</th>\n      <th>epochs</th>\n      <th>iterations</th>\n      <th>samples</th>\n      <th>training_rmse</th>\n      <th>training_logloss</th>\n      <th>training_r2</th>\n      <th>training_auc</th>\n      <th>training_pr_auc</th>\n      <th>training_lift</th>\n      <th>training_classification_error</th>\n    </tr>\n  </thead>\n  <tbody>\n    <tr>\n      <th>0</th>\n      <td></td>\n      <td>2022-06-14 02:10:23</td>\n      <td>0.000 sec</td>\n      <td>None</td>\n      <td>0.000000</td>\n      <td>0</td>\n      <td>0.0</td>\n      <td>NaN</td>\n      <td>NaN</td>\n      <td>NaN</td>\n      <td>NaN</td>\n      <td>NaN</td>\n      <td>NaN</td>\n      <td>NaN</td>\n    </tr>\n    <tr>\n      <th>1</th>\n      <td></td>\n      <td>2022-06-14 02:10:23</td>\n      <td>17.627 sec</td>\n      <td>209333 obs/sec</td>\n      <td>9.781931</td>\n      <td>1</td>\n      <td>3140.0</td>\n      <td>0.243848</td>\n      <td>0.191655</td>\n      <td>0.750449</td>\n      <td>0.977695</td>\n      <td>0.985155</td>\n      <td>1.643979</td>\n      <td>0.070064</td>\n    </tr>\n    <tr>\n      <th>2</th>\n      <td></td>\n      <td>2022-06-14 02:10:28</td>\n      <td>22.633 sec</td>\n      <td>568631 obs/sec</td>\n      <td>8881.993769</td>\n      <td>908</td>\n      <td>2851120.0</td>\n      <td>0.161416</td>\n      <td>0.081851</td>\n      <td>0.890651</td>\n      <td>0.997787</td>\n      <td>0.998627</td>\n      <td>1.643979</td>\n      <td>0.019108</td>\n    </tr>\n    <tr>\n      <th>3</th>\n      <td></td>\n      <td>2022-06-14 02:10:28</td>\n      <td>23.269 sec</td>\n      <td>569441 obs/sec</td>\n      <td>10006.915888</td>\n      <td>1023</td>\n      <td>3212220.0</td>\n      <td>0.156150</td>\n      <td>0.075109</td>\n      <td>0.897670</td>\n      <td>0.997787</td>\n      <td>0.998617</td>\n      <td>1.643979</td>\n      <td>0.025478</td>\n    </tr>\n  </tbody>\n</table>\n</div>"
     },
     "metadata": {},
     "output_type": "display_data"
    },
    {
     "name": "stdout",
     "output_type": "stream",
     "text": [
      "\n",
      "Variable Importances: \n"
     ]
    },
    {
     "data": {
      "text/plain": "       variable  relative_importance  scaled_importance  percentage\n0         power             1.000000           1.000000    0.322133\n1  displacement             0.623330           0.623330    0.200795\n2        weight             0.616602           0.616602    0.198628\n3          year             0.477967           0.477967    0.153969\n4  acceleration             0.386411           0.386411    0.124476",
      "text/html": "<div>\n<style scoped>\n    .dataframe tbody tr th:only-of-type {\n        vertical-align: middle;\n    }\n\n    .dataframe tbody tr th {\n        vertical-align: top;\n    }\n\n    .dataframe thead th {\n        text-align: right;\n    }\n</style>\n<table border=\"1\" class=\"dataframe\">\n  <thead>\n    <tr style=\"text-align: right;\">\n      <th></th>\n      <th>variable</th>\n      <th>relative_importance</th>\n      <th>scaled_importance</th>\n      <th>percentage</th>\n    </tr>\n  </thead>\n  <tbody>\n    <tr>\n      <th>0</th>\n      <td>power</td>\n      <td>1.000000</td>\n      <td>1.000000</td>\n      <td>0.322133</td>\n    </tr>\n    <tr>\n      <th>1</th>\n      <td>displacement</td>\n      <td>0.623330</td>\n      <td>0.623330</td>\n      <td>0.200795</td>\n    </tr>\n    <tr>\n      <th>2</th>\n      <td>weight</td>\n      <td>0.616602</td>\n      <td>0.616602</td>\n      <td>0.198628</td>\n    </tr>\n    <tr>\n      <th>3</th>\n      <td>year</td>\n      <td>0.477967</td>\n      <td>0.477967</td>\n      <td>0.153969</td>\n    </tr>\n    <tr>\n      <th>4</th>\n      <td>acceleration</td>\n      <td>0.386411</td>\n      <td>0.386411</td>\n      <td>0.124476</td>\n    </tr>\n  </tbody>\n</table>\n</div>"
     },
     "metadata": {},
     "output_type": "display_data"
    },
    {
     "data": {
      "text/plain": ""
     },
     "execution_count": 139,
     "metadata": {},
     "output_type": "execute_result"
    }
   ],
   "source": [
    "h2o.get_model('DeepLearning_grid_1_AutoML_2_20220614_20958_model_1')"
   ],
   "metadata": {
    "collapsed": false,
    "pycharm": {
     "name": "#%%\n"
    }
   }
  },
  {
   "cell_type": "markdown",
   "source": [
    "Se observa que el método tira una verborrea de información sobre el modelo ajustado."
   ],
   "metadata": {
    "collapsed": false,
    "pycharm": {
     "name": "#%% md\n"
    }
   }
  },
  {
   "cell_type": "code",
   "execution_count": 139,
   "outputs": [],
   "source": [],
   "metadata": {
    "collapsed": false,
    "pycharm": {
     "name": "#%%\n"
    }
   }
  }
 ],
 "metadata": {
  "kernelspec": {
   "display_name": "Python 3",
   "language": "python",
   "name": "python3"
  },
  "language_info": {
   "codemirror_mode": {
    "name": "ipython",
    "version": 2
   },
   "file_extension": ".py",
   "mimetype": "text/x-python",
   "name": "python",
   "nbconvert_exporter": "python",
   "pygments_lexer": "ipython2",
   "version": "2.7.6"
  }
 },
 "nbformat": 4,
 "nbformat_minor": 0
}